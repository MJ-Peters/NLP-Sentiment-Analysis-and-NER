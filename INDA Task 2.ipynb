{
 "cells": [
  {
   "cell_type": "markdown",
   "id": "b2c76493-0815-45dd-b015-52e174b5b3b7",
   "metadata": {},
   "source": [
    "# Task Two -- Named Entity Recognition (BioNLP)"
   ]
  },
  {
   "cell_type": "markdown",
   "id": "dcc1cdbd-fb60-4030-b22e-27d8c832e5fd",
   "metadata": {},
   "source": [
    "## Importing Packages"
   ]
  },
  {
   "cell_type": "code",
   "execution_count": 57,
   "id": "72157dbd-228c-442f-bd54-347e09da1723",
   "metadata": {},
   "outputs": [
    {
     "name": "stdout",
     "output_type": "stream",
     "text": [
      "Requirement already satisfied: pip in c:\\users\\misha\\anaconda3\\lib\\site-packages (22.3.1)\n",
      "Collecting pip\n",
      "  Downloading pip-23.1.2-py3-none-any.whl (2.1 MB)\n",
      "     ---------------------------------------- 2.1/2.1 MB 14.6 MB/s eta 0:00:00\n"
     ]
    },
    {
     "name": "stderr",
     "output_type": "stream",
     "text": [
      "ERROR: To modify pip, please run the following command:\n",
      "C:\\Users\\misha\\anaconda3\\python.exe -m pip install --upgrade pip\n",
      "\n",
      "[notice] A new release of pip available: 22.3.1 -> 23.1.2\n",
      "[notice] To update, run: python.exe -m pip install --upgrade pip\n"
     ]
    }
   ],
   "source": [
    "# !pip install python-crfsuite\n",
    "# !pip install --upgrade nltk"
   ]
  },
  {
   "cell_type": "code",
   "execution_count": 50,
   "id": "deae3808-ad56-4d77-9ae9-f08240663950",
   "metadata": {},
   "outputs": [],
   "source": [
    "import numpy as np\n",
    "import pandas as pd\n",
    "import matplotlib.pyplot as plt\n",
    "\n",
    "from datasets import load_dataset # Doesn't work on my PyCharm\n",
    "import nltk\n",
    "import pycrfsuite"
   ]
  },
  {
   "cell_type": "markdown",
   "id": "0a12c877-8664-4e58-94fa-e06a0869f86e",
   "metadata": {},
   "source": [
    "## Importing the Dataset"
   ]
  },
  {
   "cell_type": "code",
   "execution_count": 9,
   "id": "aeb8ecd6-9b8e-42d4-a7f5-88d3961c0c15",
   "metadata": {},
   "outputs": [
    {
     "name": "stderr",
     "output_type": "stream",
     "text": [
      "Found cached dataset bionlp2004 (C:/Users/misha/Documents/University/MSc FinTech with Data Science/Semester Two/INDA/Coursework/INDA-NLP-Coursework/data_cache/tner___bionlp2004/bionlp2004/1.0.0/9f41d3f0270b773c2762dee333ae36c29331e2216114a57081f77639fdb5e904)\n"
     ]
    },
    {
     "name": "stdout",
     "output_type": "stream",
     "text": [
      "Training dataset with 16619 instances.\n"
     ]
    },
    {
     "name": "stderr",
     "output_type": "stream",
     "text": [
      "Found cached dataset bionlp2004 (C:/Users/misha/Documents/University/MSc FinTech with Data Science/Semester Two/INDA/Coursework/INDA-NLP-Coursework/data_cache/tner___bionlp2004/bionlp2004/1.0.0/9f41d3f0270b773c2762dee333ae36c29331e2216114a57081f77639fdb5e904)\n"
     ]
    },
    {
     "name": "stdout",
     "output_type": "stream",
     "text": [
      "Training dataset with 3856 instances.\n"
     ]
    }
   ],
   "source": [
    "# Define the directory\n",
    "cache_dir = \"./data_cache\"\n",
    "\n",
    "# Load the training set\n",
    "train_dataset = load_dataset(\"tner/bionlp2004\", split=\"train\", cache_dir=cache_dir)\n",
    "print(f\"Training dataset with {len(train_dataset)} instances.\")\n",
    "\n",
    "# Load the testing set\n",
    "test_dataset = load_dataset(\"tner/bionlp2004\", split=\"test\", cache_dir=cache_dir)\n",
    "print(f\"Training dataset with {len(test_dataset)} instances.\")"
   ]
  },
  {
   "cell_type": "code",
   "execution_count": 10,
   "id": "2b358033-6d6a-4b7b-bedc-5281e3a68422",
   "metadata": {},
   "outputs": [
    {
     "name": "stdout",
     "output_type": "stream",
     "text": [
      "One training instance: \n",
      "\n",
      "{'tokens': ['Hence', ',', 'PPAR', 'can', 'positively', 'or', 'negatively', 'influence', 'TH', 'action', 'depending', 'on', 'TRE', 'structure', 'and', 'THR', 'isotype', '.'], 'tags': [0, 0, 3, 0, 0, 0, 0, 0, 0, 0, 0, 0, 1, 0, 0, 3, 4, 0]}\n",
      "\n",
      "And its labels: \n",
      "\n",
      "{'tokens': ['Hence', ',', 'PPAR', 'can', 'positively', 'or', 'negatively', 'influence', 'TH', 'action', 'depending', 'on', 'TRE', 'structure', 'and', 'THR', 'isotype', '.'], 'tags': [0, 0, 3, 0, 0, 0, 0, 0, 0, 0, 0, 0, 1, 0, 0, 3, 4, 0]}\n"
     ]
    }
   ],
   "source": [
    "print(f\"One training instance: \\n\\n{train_dataset[234]}\\n\")\n",
    "print(f\"And its labels: \\n\\n{train_dataset[234]}\")"
   ]
  },
  {
   "cell_type": "code",
   "execution_count": 11,
   "id": "de831027-a2a9-4312-abe2-cb029dfb83d6",
   "metadata": {},
   "outputs": [
    {
     "name": "stdout",
     "output_type": "stream",
     "text": [
      "{0: 'O', 1: 'B-DNA', 2: 'I-DNA', 3: 'B-protein', 4: 'I-protein', 5: 'B-cell_type', 6: 'I-cell_type', 7: 'B-cell_line', 8: 'I-cell_line', 9: 'B-RNA', 10: 'I-RNA'}\n"
     ]
    }
   ],
   "source": [
    "# Mapping from labels to the tags\n",
    "id2label = {\n",
    "    \"O\": 0,\n",
    "    \"B-DNA\": 1,\n",
    "    \"I-DNA\": 2,\n",
    "    \"B-protein\": 3,\n",
    "    \"I-protein\": 4,\n",
    "    \"B-cell_type\": 5,\n",
    "    \"I-cell_type\": 6,\n",
    "    \"B-cell_line\": 7,\n",
    "    \"I-cell_line\": 8,\n",
    "    \"B-RNA\": 9,\n",
    "    \"I-RNA\": 10\n",
    "}\n",
    "\n",
    "# Swapping key, value around to map tags to labels\n",
    "ner_tag_mapping = {v:k for k, v in id2label.items()}\n",
    "print(ner_tag_mapping)"
   ]
  },
  {
   "cell_type": "code",
   "execution_count": 12,
   "id": "1e607c23-9c0d-4988-8504-acf5865265f9",
   "metadata": {},
   "outputs": [],
   "source": [
    "train_set = [list(zip(s[\"tokens\"], [ner_tag_mapping[tok] for tok in s[\"tags\"]])) for s in train_dataset][:-1]\n",
    "test_set = [list(zip(s[\"tokens\"], [ner_tag_mapping[tok] for tok in s[\"tags\"]])) for s in test_dataset][:-1]\n",
    "test_tokens = [s[\"tokens\"] for s in test_dataset][:-1]\n",
    "test_tags = [[ner_tag_mapping[tok] for tok in s[\"tags\"]] for s in test_dataset][:-1]"
   ]
  },
  {
   "cell_type": "markdown",
   "id": "27fef463-8c23-49e7-9b7a-573f00e7eb11",
   "metadata": {},
   "source": [
    "## Training the Conditional Random Field (CRF) Tagger"
   ]
  },
  {
   "cell_type": "code",
   "execution_count": 38,
   "id": "5f92df05-926e-47b1-a645-2f78a220bc42",
   "metadata": {},
   "outputs": [],
   "source": [
    "def train_CRF_NER_tagger(train_set):\n",
    "    tagger = nltk.tag.CRFTagger()\n",
    "    tagger.train(train_set, \"model.crf.tagger\")\n",
    "    return tagger\n",
    "\n",
    "tagger = train_CRF_NER_tagger(train_set)"
   ]
  },
  {
   "cell_type": "code",
   "execution_count": 39,
   "id": "7199adb1-65c7-4053-9b8c-2086261cb31a",
   "metadata": {},
   "outputs": [],
   "source": [
    "predicted_tags = tagger.tag_sents(test_tokens)"
   ]
  },
  {
   "cell_type": "code",
   "execution_count": 40,
   "id": "3ff3175a-882e-4cf1-84e8-4aa36575ee6c",
   "metadata": {},
   "outputs": [
    {
     "name": "stdout",
     "output_type": "stream",
     "text": [
      "Micro-Average F1 score for protein = 0.6528846153846154\n",
      "Micro-Average F1 score for cell_type = 0.6316096990943617\n",
      "Micro-Average F1 score for DNA = 0.5853413654618472\n",
      "Micro-Average F1 score for cell_line = 0.48218029350104824\n",
      "Micro-Average F1 score for RNA = 0.6017699115044248\n",
      "Macro-average F1 score = 0.5907571769892594\n"
     ]
    }
   ],
   "source": [
    "def extract_spans(tagged_sents):\n",
    "    \"\"\"\n",
    "    Extract a list of tagged spans for each named entity type, \n",
    "    where each span is represented by a tuple containing the \n",
    "    start token and end token indexes.\n",
    "    \n",
    "    returns: a dictionary containing a list of spans for each entity type.\n",
    "    \"\"\"\n",
    "    spans = {}\n",
    "        \n",
    "    for sidx, sent in enumerate(tagged_sents):\n",
    "        start = -1\n",
    "        entity_type = None\n",
    "        for i, (tok, lab) in enumerate(sent):\n",
    "            if 'B-' in lab:\n",
    "                start = i\n",
    "                end = i + 1\n",
    "                entity_type = lab[2:]\n",
    "            elif 'I-' in lab:\n",
    "                end = i + 1\n",
    "            elif lab == 'O' and start >= 0:\n",
    "                \n",
    "                if entity_type not in spans:\n",
    "                    spans[entity_type] = []\n",
    "                \n",
    "                spans[entity_type].append((start, end, sidx))\n",
    "                start = -1      \n",
    "        # Sometimes an I-token is the last token in the sentence, so we still have to add the span to the list\n",
    "        if start >= 0:    \n",
    "            if entity_type not in spans:\n",
    "                spans[entity_type] = []\n",
    "                \n",
    "            spans[entity_type].append((start, end, sidx))\n",
    "                \n",
    "    return spans\n",
    "\n",
    "\n",
    "def cal_span_level_f1(test_sents, test_sents_with_pred):\n",
    "    # get a list of spans from the test set labels\n",
    "    gold_spans = extract_spans(test_sents)\n",
    "\n",
    "    # get a list of spans predicted by our tagger\n",
    "    pred_spans = extract_spans(test_sents_with_pred)\n",
    "    \n",
    "    # compute the metrics for each class:\n",
    "    f1_per_class = []\n",
    "    \n",
    "    ne_types = gold_spans.keys()  # get the list of named entity types (not the tags)\n",
    "    \n",
    "    for ne_type in ne_types:\n",
    "        # compute the confusion matrix\n",
    "        true_pos = 0\n",
    "        false_pos = 0\n",
    "        \n",
    "        for span in pred_spans[ne_type]:\n",
    "            if span in gold_spans[ne_type]:\n",
    "                true_pos += 1\n",
    "            else:\n",
    "                false_pos += 1\n",
    "                \n",
    "        false_neg = 0\n",
    "        for span in gold_spans[ne_type]:\n",
    "            if span not in pred_spans[ne_type]:\n",
    "                false_neg += 1\n",
    "                \n",
    "        if true_pos + false_pos == 0:\n",
    "            precision = 0\n",
    "        else:\n",
    "            precision = true_pos / float(true_pos + false_pos)\n",
    "            \n",
    "        if true_pos + false_neg == 0:\n",
    "            recall = 0\n",
    "        else:\n",
    "            recall = true_pos / float(true_pos + false_neg)\n",
    "        \n",
    "        if precision + recall == 0:\n",
    "            f1 = 0\n",
    "        else:\n",
    "            f1 = 2 * precision * recall / (precision + recall)\n",
    "            \n",
    "        f1_per_class.append(f1)\n",
    "        print(f'Micro-Average F1 score for {ne_type} = {f1}')\n",
    "        \n",
    "    macro_f1 = np.mean(f1_per_class)\n",
    "    print(f'Macro-average F1 score = {macro_f1}')\n",
    "    f1_per_class.append(macro_f1)\n",
    "    return(f1_per_class)\n",
    "\n",
    "default_crf_metrics = cal_span_level_f1(test_set, predicted_tags)"
   ]
  },
  {
   "cell_type": "code",
   "execution_count": 41,
   "id": "e842466e-a3b8-4ec1-b598-6c5fd0c0801b",
   "metadata": {},
   "outputs": [],
   "source": [
    "import re, unicodedata\n",
    "\n",
    "class CustomCRFTagger(nltk.tag.CRFTagger):\n",
    "    _current_tokens = None\n",
    "    \n",
    "    def _get_features(self, tokens, idx):\n",
    "            \"\"\"\n",
    "            Extract basic features about this word including\n",
    "                - Current word\n",
    "                - is it capitalized?\n",
    "                - Does it have punctuation?\n",
    "                - Does it have a number?\n",
    "                - Suffixes up to length 3\n",
    "            \"\"\"\n",
    "            token = tokens[idx]\n",
    "\n",
    "            feature_list = []\n",
    "\n",
    "            if not token:\n",
    "                return feature_list\n",
    "\n",
    "            # Capitalization\n",
    "            if token[0].isupper():\n",
    "                feature_list.append(\"CAPITALIZATION\")\n",
    "\n",
    "            # Number\n",
    "            if re.search(self._pattern, token) is not None:\n",
    "                feature_list.append(\"HAS_NUM\")\n",
    "\n",
    "            # Punctuation\n",
    "            punc_cat = {\"Pc\", \"Pd\", \"Ps\", \"Pe\", \"Pi\", \"Pf\", \"Po\"}\n",
    "            if all(unicodedata.category(x) in punc_cat for x in token):\n",
    "                feature_list.append(\"PUNCTUATION\")\n",
    "\n",
    "            # Suffix up to length 3\n",
    "            if len(token) > 1:\n",
    "                feature_list.append(\"SUF_\" + token[-1:])\n",
    "            if len(token) > 2:\n",
    "                feature_list.append(\"SUF_\" + token[-2:])\n",
    "            if len(token) > 3:\n",
    "                feature_list.append(\"SUF_\" + token[-3:])\n",
    "\n",
    "                \n",
    "            # Current word\n",
    "            feature_list.append(\"WORD_\" + token)\n",
    "            if idx > 0:\n",
    "                feature_list.append(\"PREVWORD_\" + tokens[idx-1])\n",
    "            if idx < len(tokens)-1:\n",
    "                feature_list.append(\"NEXTWORD_\" + tokens[idx+1])\n",
    "\n",
    "            return feature_list"
   ]
  },
  {
   "cell_type": "code",
   "execution_count": 42,
   "id": "1ca36d81-6ea3-4153-a813-ba18afbdee50",
   "metadata": {},
   "outputs": [],
   "source": [
    "# Train a CRF NER tagger\n",
    "def train_CustomCRF_NER_tagger(train_set):\n",
    "    ### WRITE YOUR OWN CODE HERE\n",
    "    tagger = CustomCRFTagger()\n",
    "    tagger.train(train_set, 'model.crf.tagger')\n",
    "    return tagger  # return the trained model\n",
    "\n",
    "tagger = train_CustomCRF_NER_tagger(train_set)"
   ]
  },
  {
   "cell_type": "code",
   "execution_count": 43,
   "id": "770ff60b-fe22-493c-a4df-4a1ed1576dd3",
   "metadata": {},
   "outputs": [
    {
     "name": "stdout",
     "output_type": "stream",
     "text": [
      "Micro-Average F1 score for protein = 0.6889548807357027\n",
      "Micro-Average F1 score for cell_type = 0.7054376272172144\n",
      "Micro-Average F1 score for DNA = 0.6479156202913108\n",
      "Micro-Average F1 score for cell_line = 0.5298281092012133\n",
      "Micro-Average F1 score for RNA = 0.6180257510729614\n",
      "Macro-average F1 score = 0.6380323977036805\n"
     ]
    }
   ],
   "source": [
    "predicted_tags = tagger.tag_sents(test_tokens)\n",
    "custom_crf_metrics = cal_span_level_f1(test_set, predicted_tags)"
   ]
  },
  {
   "cell_type": "code",
   "execution_count": 44,
   "id": "a3715b0d-2c3b-4038-9ff4-10f57a2d0495",
   "metadata": {},
   "outputs": [],
   "source": [
    "# *** Improve the CRF NER tagger using parts of speech (see lab 5) as additional features.\n",
    "class CRFTaggerWithPOS(CustomCRFTagger):\n",
    "    _current_tokens = None\n",
    "    \n",
    "    def _get_features(self, tokens, index):\n",
    "        \"\"\"\n",
    "        Extract the features for a token and append the POS tag as an additional feature.\n",
    "        \"\"\"\n",
    "        basic_features = super()._get_features(tokens, index)\n",
    "        \n",
    "        # Get the pos tags for the current sentence and save it\n",
    "        if tokens != self._current_tokens:\n",
    "            self._pos_tagged_tokens = nltk.pos_tag(tokens)\n",
    "            self._current_tokens = tokens\n",
    "            \n",
    "            \n",
    "        ### WRITE YOUR OWN CODE HERE\n",
    "        basic_features.append(self._pos_tagged_tokens[index][1])\n",
    "        ###\n",
    "        \n",
    "        return basic_features"
   ]
  },
  {
   "cell_type": "code",
   "execution_count": 45,
   "id": "44ead8da-e16e-4127-b2be-ea96b9e8c18d",
   "metadata": {},
   "outputs": [],
   "source": [
    "# Train a CRF NER tagger\n",
    "def train_CRF_NER_tagger_with_POS(train_set):\n",
    "    ### WRITE YOUR OWN CODE HERE\n",
    "    tagger = CRFTaggerWithPOS()\n",
    "    tagger.train(train_set, 'model.crf.tagger')\n",
    "    return tagger  # return the trained model\n",
    "\n",
    "tagger = train_CRF_NER_tagger_with_POS(train_set)"
   ]
  },
  {
   "cell_type": "code",
   "execution_count": 46,
   "id": "d213ad72-2c97-4ccd-ae21-6e085b5e8337",
   "metadata": {},
   "outputs": [
    {
     "name": "stdout",
     "output_type": "stream",
     "text": [
      "Micro-Average F1 score for protein = 0.6908607258217746\n",
      "Micro-Average F1 score for cell_type = 0.7069416206796398\n",
      "Micro-Average F1 score for DNA = 0.6410767696909272\n",
      "Micro-Average F1 score for cell_line = 0.5419615773508595\n",
      "Micro-Average F1 score for RNA = 0.6233766233766234\n",
      "Macro-average F1 score = 0.6408434633839649\n"
     ]
    }
   ],
   "source": [
    "predicted_tags = tagger.tag_sents(test_tokens)\n",
    "pos_crf_metrics = cal_span_level_f1(test_set, predicted_tags)"
   ]
  },
  {
   "cell_type": "markdown",
   "id": "593a0880-1f7d-4142-abb1-213115482342",
   "metadata": {},
   "source": [
    "## Visual Comparison"
   ]
  },
  {
   "cell_type": "code",
   "execution_count": 66,
   "id": "fb804468-3426-4dfa-9ad4-a8f9f95003ae",
   "metadata": {},
   "outputs": [
    {
     "data": {
      "image/png": "[encoded data removed]",
      "text/plain": [
       "<Figure size 432x288 with 1 Axes>"
      ]
     },
     "metadata": {
      "needs_background": "light"
     },
     "output_type": "display_data"
    }
   ],
   "source": [
    "# define the different metrics and their scores for bayes with lem\n",
    "metrics = [\"Protein\", \"Cell Type\", \"DNA\", \"Cell Line\", \"RNA\", \"Macro\"]\n",
    "\n",
    "# set the width of the bars\n",
    "bar_width = 0.20\n",
    "\n",
    "# set the x-positions of the bars\n",
    "r1 = np.arange(len(metrics)) + bar_width\n",
    "r2 = [x + bar_width for x in r1]\n",
    "r3 = [x + bar_width for x in r2]\n",
    "\n",
    "# create the bar plot\n",
    "plt.bar(r1, default_crf_metrics, color=\"tab:blue\", width=bar_width, edgecolor=\"black\", label=\"Default CRF Model\")\n",
    "plt.bar(r2, custom_crf_metrics, color=\"tab:orange\", width=bar_width, edgecolor=\"black\", label=\"Custom CRF Model\")\n",
    "plt.bar(r3, pos_crf_metrics, color=\"tab:green\", width=bar_width, edgecolor=\"black\", label=\"Custom CRF Model with POS\")\n",
    "\n",
    "\n",
    "# add labels and title\n",
    "plt.ylabel(\"F1 Score\")\n",
    "plt.xticks([r + bar_width*2 for r in range(len(metrics))], metrics)\n",
    "plt.title(\"Comparison of F1 Scores\")\n",
    "\n",
    "# set y-axis limits\n",
    "plt.ylim(0.45, 0.75)\n",
    "\n",
    "# add legend\n",
    "plt.legend()\n",
    "\n",
    "# show the plot\n",
    "plt.grid(axis=\"y\")\n",
    "plt.savefig(\"class_comparison.png\", dpi=300)\n",
    "plt.show()"
   ]
  },
  {
   "cell_type": "code",
   "execution_count": null,
   "id": "4e711fea-0dea-400b-9cbd-d05abc05040f",
   "metadata": {},
   "outputs": [],
   "source": []
  }
 ],
 "metadata": {
  "kernelspec": {
   "display_name": "Python 3 (ipykernel)",
   "language": "python",
   "name": "python3"
  },
  "language_info": {
   "codemirror_mode": {
    "name": "ipython",
    "version": 3
   },
   "file_extension": ".py",
   "mimetype": "text/x-python",
   "name": "python",
   "nbconvert_exporter": "python",
   "pygments_lexer": "ipython3",
   "version": "3.9.12"
  }
 },
 "nbformat": 4,
 "nbformat_minor": 5
}
