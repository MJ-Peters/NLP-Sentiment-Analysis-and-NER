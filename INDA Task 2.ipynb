{
 "cells": [
  {
   "cell_type": "markdown",
   "id": "b2c76493-0815-45dd-b015-52e174b5b3b7",
   "metadata": {},
   "source": [
    "# Task Two -- Named Entity Recognition (BioNLP)"
   ]
  },
  {
   "cell_type": "markdown",
   "id": "dcc1cdbd-fb60-4030-b22e-27d8c832e5fd",
   "metadata": {},
   "source": [
    "## Importing Packages"
   ]
  },
  {
   "cell_type": "code",
   "execution_count": 1,
   "id": "deae3808-ad56-4d77-9ae9-f08240663950",
   "metadata": {},
   "outputs": [],
   "source": [
    "import numpy as np\n",
    "import pandas as pd\n",
    "\n",
    "from datasets import load_dataset # Doesn't work on my PyCharm\n"
   ]
  },
  {
   "cell_type": "markdown",
   "id": "0a12c877-8664-4e58-94fa-e06a0869f86e",
   "metadata": {},
   "source": [
    "## Importing the Dataset"
   ]
  },
  {
   "cell_type": "code",
   "execution_count": 2,
   "id": "aeb8ecd6-9b8e-42d4-a7f5-88d3961c0c15",
   "metadata": {},
   "outputs": [
    {
     "data": {
      "application/vnd.jupyter.widget-view+json": {
       "model_id": "861f7d6d282b451c86ccd6d9c67aed08",
       "version_major": 2,
       "version_minor": 0
      },
      "text/plain": [
       "Downloading builder script:   0%|          | 0.00/2.83k [00:00<?, ?B/s]"
      ]
     },
     "metadata": {},
     "output_type": "display_data"
    },
    {
     "data": {
      "application/vnd.jupyter.widget-view+json": {
       "model_id": "346bc54dfac24e7c8f7b6f7037dd615f",
       "version_major": 2,
       "version_minor": 0
      },
      "text/plain": [
       "Downloading readme:   0%|          | 0.00/2.27k [00:00<?, ?B/s]"
      ]
     },
     "metadata": {},
     "output_type": "display_data"
    },
    {
     "name": "stdout",
     "output_type": "stream",
     "text": [
      "Downloading and preparing dataset bionlp2004/bionlp2004 to C:/Users/misha/Documents/University/MSc FinTech with Data Science/Semester Two/INDA/Coursework/INDA-NLP-Coursework/data_cache/tner___bionlp2004/bionlp2004/1.0.0/9f41d3f0270b773c2762dee333ae36c29331e2216114a57081f77639fdb5e904...\n"
     ]
    },
    {
     "data": {
      "application/vnd.jupyter.widget-view+json": {
       "model_id": "0994168c12834ea98a3b19f93b78349d",
       "version_major": 2,
       "version_minor": 0
      },
      "text/plain": [
       "Downloading data files:   0%|          | 0/3 [00:00<?, ?it/s]"
      ]
     },
     "metadata": {},
     "output_type": "display_data"
    },
    {
     "data": {
      "application/vnd.jupyter.widget-view+json": {
       "model_id": "78b42e89f1304550830b3d809b92942c",
       "version_major": 2,
       "version_minor": 0
      },
      "text/plain": [
       "Downloading data:   0%|          | 0.00/1.32M [00:00<?, ?B/s]"
      ]
     },
     "metadata": {},
     "output_type": "display_data"
    },
    {
     "data": {
      "application/vnd.jupyter.widget-view+json": {
       "model_id": "1f667d3fbae54465902e7d72f929a00d",
       "version_major": 2,
       "version_minor": 0
      },
      "text/plain": [
       "Downloading data:   0%|          | 0.00/5.78M [00:00<?, ?B/s]"
      ]
     },
     "metadata": {},
     "output_type": "display_data"
    },
    {
     "data": {
      "application/vnd.jupyter.widget-view+json": {
       "model_id": "632862e1e49d466b98b5b7e1dd9d08b2",
       "version_major": 2,
       "version_minor": 0
      },
      "text/plain": [
       "Downloading data:   0%|          | 0.00/660k [00:00<?, ?B/s]"
      ]
     },
     "metadata": {},
     "output_type": "display_data"
    },
    {
     "data": {
      "application/vnd.jupyter.widget-view+json": {
       "model_id": "37b269ff0b514c37a31b83245bf95d1b",
       "version_major": 2,
       "version_minor": 0
      },
      "text/plain": [
       "Extracting data files:   0%|          | 0/3 [00:00<?, ?it/s]"
      ]
     },
     "metadata": {},
     "output_type": "display_data"
    },
    {
     "data": {
      "application/vnd.jupyter.widget-view+json": {
       "model_id": "",
       "version_major": 2,
       "version_minor": 0
      },
      "text/plain": [
       "Generating train split: 0 examples [00:00, ? examples/s]"
      ]
     },
     "metadata": {},
     "output_type": "display_data"
    },
    {
     "data": {
      "application/vnd.jupyter.widget-view+json": {
       "model_id": "",
       "version_major": 2,
       "version_minor": 0
      },
      "text/plain": [
       "Generating validation split: 0 examples [00:00, ? examples/s]"
      ]
     },
     "metadata": {},
     "output_type": "display_data"
    },
    {
     "data": {
      "application/vnd.jupyter.widget-view+json": {
       "model_id": "",
       "version_major": 2,
       "version_minor": 0
      },
      "text/plain": [
       "Generating test split: 0 examples [00:00, ? examples/s]"
      ]
     },
     "metadata": {},
     "output_type": "display_data"
    },
    {
     "name": "stdout",
     "output_type": "stream",
     "text": [
      "Dataset bionlp2004 downloaded and prepared to C:/Users/misha/Documents/University/MSc FinTech with Data Science/Semester Two/INDA/Coursework/INDA-NLP-Coursework/data_cache/tner___bionlp2004/bionlp2004/1.0.0/9f41d3f0270b773c2762dee333ae36c29331e2216114a57081f77639fdb5e904. Subsequent calls will reuse this data.\n"
     ]
    },
    {
     "data": {
      "application/vnd.jupyter.widget-view+json": {
       "model_id": "d92d6a68808b49b5ad2b7d3a60a3e2fd",
       "version_major": 2,
       "version_minor": 0
      },
      "text/plain": [
       "  0%|          | 0/3 [00:00<?, ?it/s]"
      ]
     },
     "metadata": {},
     "output_type": "display_data"
    },
    {
     "name": "stdout",
     "output_type": "stream",
     "text": [
      "The dataset is a dictionary with 3 splits: \n",
      "\n",
      "DatasetDict({\n",
      "    train: Dataset({\n",
      "        features: ['tokens', 'tags'],\n",
      "        num_rows: 16619\n",
      "    })\n",
      "    validation: Dataset({\n",
      "        features: ['tokens', 'tags'],\n",
      "        num_rows: 1927\n",
      "    })\n",
      "    test: Dataset({\n",
      "        features: ['tokens', 'tags'],\n",
      "        num_rows: 3856\n",
      "    })\n",
      "})\n"
     ]
    }
   ],
   "source": [
    "dataset = load_dataset(\"tner/bionlp2004\", cache_dir=\"./data_cache\")\n",
    "\n",
    "print(f\"The dataset is a dictionary with {len(dataset)} splits: \\n\\n{dataset}\")"
   ]
  },
  {
   "cell_type": "code",
   "execution_count": 3,
   "id": "80d9a625-2caf-4b03-9253-44402a62c7c2",
   "metadata": {},
   "outputs": [],
   "source": [
    "# Reformat training data\n",
    "train_sentences_ner = [item[\"tokens\"] for item in dataset[\"train\"]]\n",
    "train_labels_ner = [[str(tag) for tag in item[\"tags\"]] for item in dataset[\"train\"]]\n",
    "\n",
    "# Reformat validation data\n",
    "val_sentences_ner = [item[\"tokens\"] for item in dataset[\"validation\"]]\n",
    "val_labels_ner = [[str(tag) for tag in item[\"tags\"]] for item in dataset[\"validation\"]]\n",
    "\n",
    "# Reformat testing data\n",
    "test_sentences_ner = [item[\"tokens\"] for item in dataset[\"test\"]]\n",
    "test_labels_ner = [[str(tag) for tag in item[\"tags\"]] for item in dataset[\"test\"]]"
   ]
  },
  {
   "cell_type": "code",
   "execution_count": 4,
   "id": "7037eb3e-e8b3-4627-a0f6-1671969411f9",
   "metadata": {},
   "outputs": [
    {
     "name": "stdout",
     "output_type": "stream",
     "text": [
      "Number of training sentences = 16619\n",
      "Number of validation sentences = 1927\n",
      "Number of test sentences = 3856\n"
     ]
    }
   ],
   "source": [
    "print(f\"Number of training sentences = {len(train_sentences_ner)}\")\n",
    "print(f\"Number of validation sentences = {len(val_sentences_ner)}\")\n",
    "print(f\"Number of test sentences = {len(test_sentences_ner)}\")"
   ]
  },
  {
   "cell_type": "code",
   "execution_count": 5,
   "id": "2b358033-6d6a-4b7b-bedc-5281e3a68422",
   "metadata": {},
   "outputs": [
    {
     "name": "stdout",
     "output_type": "stream",
     "text": [
      "What does one instance look like from the training set? \n",
      "\n",
      "['Hence', ',', 'PPAR', 'can', 'positively', 'or', 'negatively', 'influence', 'TH', 'action', 'depending', 'on', 'TRE', 'structure', 'and', 'THR', 'isotype', '.']\n",
      "...and here is its corresponding label \n",
      "\n",
      "['0', '0', '3', '0', '0', '0', '0', '0', '0', '0', '0', '0', '1', '0', '0', '3', '4', '0']\n"
     ]
    }
   ],
   "source": [
    "print(f\"What does one instance look like from the training set? \\n\\n{train_sentences_ner[234]}\")\n",
    "print(f\"...and here is its corresponding label \\n\\n{train_labels_ner[234]}\")"
   ]
  },
  {
   "cell_type": "code",
   "execution_count": 6,
   "id": "ee7ee2b8-f38d-48cd-9413-11ff403b83ee",
   "metadata": {},
   "outputs": [
    {
     "name": "stdout",
     "output_type": "stream",
     "text": [
      "Number of unique labels: ['0' '1' '10' '2' '3' '4' '5' '6' '7' '8' '9']\n"
     ]
    }
   ],
   "source": [
    "print(f\"Number of unique labels: {np.unique(np.concatenate(train_labels_ner))}\")"
   ]
  },
  {
   "cell_type": "code",
   "execution_count": null,
   "id": "de831027-a2a9-4312-abe2-cb029dfb83d6",
   "metadata": {},
   "outputs": [],
   "source": [
    "# Mapping from labels to the tags\n",
    "id2label = {\n",
    "    \"O\": 0,\n",
    "    \"B-DNA\": 1,\n",
    "    \"I-DNA\": 2,\n",
    "    \"B-protein\": 3,\n",
    "    \"I-protein\": 4,\n",
    "    \"B-cell_type\": 5,\n",
    "    \"I-cell_type\": 6,\n",
    "    \"B-cell_line\": 7,\n",
    "    \"I-cell_line\": 8,\n",
    "    \"B-RNA\": 9,\n",
    "    \"I-RNA\": 10\n",
    "}\n",
    "\n",
    "label2id = {v:k for k, v in id2label.items()}\n",
    "print(label2id)"
   ]
  },
  {
   "cell_type": "code",
   "execution_count": null,
   "id": "1e607c23-9c0d-4988-8504-acf5865265f9",
   "metadata": {},
   "outputs": [],
   "source": []
  }
 ],
 "metadata": {
  "kernelspec": {
   "display_name": "Python 3 (ipykernel)",
   "language": "python",
   "name": "python3"
  },
  "language_info": {
   "codemirror_mode": {
    "name": "ipython",
    "version": 3
   },
   "file_extension": ".py",
   "mimetype": "text/x-python",
   "name": "python",
   "nbconvert_exporter": "python",
   "pygments_lexer": "ipython3",
   "version": "3.9.12"
  }
 },
 "nbformat": 4,
 "nbformat_minor": 5
}
