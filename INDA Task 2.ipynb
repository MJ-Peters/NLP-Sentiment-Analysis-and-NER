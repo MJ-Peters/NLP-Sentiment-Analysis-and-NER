{
 "cells": [
  {
   "cell_type": "markdown",
   "id": "b2c76493-0815-45dd-b015-52e174b5b3b7",
   "metadata": {},
   "source": [
    "# Task Two -- Named Entity Recognition (BioNLP)"
   ]
  },
  {
   "cell_type": "markdown",
   "id": "dcc1cdbd-fb60-4030-b22e-27d8c832e5fd",
   "metadata": {},
   "source": [
    "## Importing Packages"
   ]
  },
  {
   "cell_type": "code",
   "execution_count": 57,
   "id": "72157dbd-228c-442f-bd54-347e09da1723",
   "metadata": {},
   "outputs": [
    {
     "name": "stdout",
     "output_type": "stream",
     "text": [
      "Requirement already satisfied: pip in c:\\users\\misha\\anaconda3\\lib\\site-packages (22.3.1)\n",
      "Collecting pip\n",
      "  Downloading pip-23.1.2-py3-none-any.whl (2.1 MB)\n",
      "     ---------------------------------------- 2.1/2.1 MB 14.6 MB/s eta 0:00:00\n"
     ]
    },
    {
     "name": "stderr",
     "output_type": "stream",
     "text": [
      "ERROR: To modify pip, please run the following command:\n",
      "C:\\Users\\misha\\anaconda3\\python.exe -m pip install --upgrade pip\n",
      "\n",
      "[notice] A new release of pip available: 22.3.1 -> 23.1.2\n",
      "[notice] To update, run: python.exe -m pip install --upgrade pip\n"
     ]
    }
   ],
   "source": [
    "# !pip install python-crfsuite\n",
    "# !pip install --upgrade nltk"
   ]
  },
  {
   "cell_type": "code",
   "execution_count": 59,
   "id": "deae3808-ad56-4d77-9ae9-f08240663950",
   "metadata": {},
   "outputs": [],
   "source": [
    "import numpy as np\n",
    "import pandas as pd\n",
    "\n",
    "from datasets import load_dataset # Doesn't work on my PyCharm\n",
    "import nltk\n",
    "import pycrfsuite"
   ]
  },
  {
   "cell_type": "markdown",
   "id": "0a12c877-8664-4e58-94fa-e06a0869f86e",
   "metadata": {},
   "source": [
    "## Importing the Dataset"
   ]
  },
  {
   "cell_type": "code",
   "execution_count": 60,
   "id": "aeb8ecd6-9b8e-42d4-a7f5-88d3961c0c15",
   "metadata": {},
   "outputs": [
    {
     "name": "stderr",
     "output_type": "stream",
     "text": [
      "Found cached dataset bionlp2004 (C:/Users/misha/Documents/University/MSc FinTech with Data Science/Semester Two/INDA/Coursework/INDA-NLP-Coursework/data_cache/tner___bionlp2004/bionlp2004/1.0.0/9f41d3f0270b773c2762dee333ae36c29331e2216114a57081f77639fdb5e904)\n"
     ]
    },
    {
     "name": "stdout",
     "output_type": "stream",
     "text": [
      "Training dataset with 16619 instances.\n"
     ]
    },
    {
     "name": "stderr",
     "output_type": "stream",
     "text": [
      "Found cached dataset bionlp2004 (C:/Users/misha/Documents/University/MSc FinTech with Data Science/Semester Two/INDA/Coursework/INDA-NLP-Coursework/data_cache/tner___bionlp2004/bionlp2004/1.0.0/9f41d3f0270b773c2762dee333ae36c29331e2216114a57081f77639fdb5e904)\n"
     ]
    },
    {
     "name": "stdout",
     "output_type": "stream",
     "text": [
      "Training dataset with 3856 instances.\n"
     ]
    }
   ],
   "source": [
    "# Define the directory\n",
    "cache_dir = \"./data_cache\"\n",
    "\n",
    "# Load the training set\n",
    "train_dataset = load_dataset(\"tner/bionlp2004\", split=\"train\", cache_dir=cache_dir)\n",
    "print(f\"Training dataset with {len(train_dataset)} instances.\")\n",
    "\n",
    "# Load the testing set\n",
    "test_dataset = load_dataset(\"tner/bionlp2004\", split=\"test\", cache_dir=cache_dir)\n",
    "print(f\"Training dataset with {len(test_dataset)} instances.\")"
   ]
  },
  {
   "cell_type": "code",
   "execution_count": 61,
   "id": "2b358033-6d6a-4b7b-bedc-5281e3a68422",
   "metadata": {},
   "outputs": [
    {
     "name": "stdout",
     "output_type": "stream",
     "text": [
      "One training instance: \n",
      "\n",
      "{'tokens': ['Hence', ',', 'PPAR', 'can', 'positively', 'or', 'negatively', 'influence', 'TH', 'action', 'depending', 'on', 'TRE', 'structure', 'and', 'THR', 'isotype', '.'], 'tags': [0, 0, 3, 0, 0, 0, 0, 0, 0, 0, 0, 0, 1, 0, 0, 3, 4, 0]}\n",
      "\n",
      "And its labels: \n",
      "\n",
      "{'tokens': ['Hence', ',', 'PPAR', 'can', 'positively', 'or', 'negatively', 'influence', 'TH', 'action', 'depending', 'on', 'TRE', 'structure', 'and', 'THR', 'isotype', '.'], 'tags': [0, 0, 3, 0, 0, 0, 0, 0, 0, 0, 0, 0, 1, 0, 0, 3, 4, 0]}\n"
     ]
    }
   ],
   "source": [
    "print(f\"One training instance: \\n\\n{train_dataset[234]}\\n\")\n",
    "print(f\"And its labels: \\n\\n{train_dataset[234]}\")"
   ]
  },
  {
   "cell_type": "code",
   "execution_count": 62,
   "id": "de831027-a2a9-4312-abe2-cb029dfb83d6",
   "metadata": {},
   "outputs": [
    {
     "name": "stdout",
     "output_type": "stream",
     "text": [
      "{0: 'O', 1: 'B-DNA', 2: 'I-DNA', 3: 'B-protein', 4: 'I-protein', 5: 'B-cell_type', 6: 'I-cell_type', 7: 'B-cell_line', 8: 'I-cell_line', 9: 'B-RNA', 10: 'I-RNA'}\n"
     ]
    }
   ],
   "source": [
    "# Mapping from labels to the tags\n",
    "id2label = {\n",
    "    \"O\": 0,\n",
    "    \"B-DNA\": 1,\n",
    "    \"I-DNA\": 2,\n",
    "    \"B-protein\": 3,\n",
    "    \"I-protein\": 4,\n",
    "    \"B-cell_type\": 5,\n",
    "    \"I-cell_type\": 6,\n",
    "    \"B-cell_line\": 7,\n",
    "    \"I-cell_line\": 8,\n",
    "    \"B-RNA\": 9,\n",
    "    \"I-RNA\": 10\n",
    "}\n",
    "\n",
    "# Swapping key, value around to map tags to labels\n",
    "ner_tag_mapping = {v:k for k, v in id2label.items()}\n",
    "print(ner_tag_mapping)"
   ]
  },
  {
   "cell_type": "code",
   "execution_count": 63,
   "id": "1e607c23-9c0d-4988-8504-acf5865265f9",
   "metadata": {},
   "outputs": [],
   "source": [
    "train_set = [list(zip(s[\"tokens\"], [ner_tag_mapping[tok] for tok in s[\"tags\"]])) for s in train_dataset][:-1]\n",
    "test_set = [list(zip(s[\"tokens\"], [ner_tag_mapping[tok] for tok in s[\"tags\"]])) for s in test_dataset][:-1]\n",
    "test_tokens = [s[\"tokens\"] for s in test_dataset][:-1]\n",
    "test_tags = [[ner_tag_mapping[tok] for tok in s[\"tags\"]] for s in test_dataset][:-1]"
   ]
  },
  {
   "cell_type": "markdown",
   "id": "27fef463-8c23-49e7-9b7a-573f00e7eb11",
   "metadata": {},
   "source": [
    "## Training the Conditional Random Field (CRF) Tagger"
   ]
  },
  {
   "cell_type": "code",
   "execution_count": 64,
   "id": "5f92df05-926e-47b1-a645-2f78a220bc42",
   "metadata": {},
   "outputs": [
    {
     "ename": "NameError",
     "evalue": "name 'pycrfsuite' is not defined",
     "output_type": "error",
     "traceback": [
      "\u001b[1;31m---------------------------------------------------------------------------\u001b[0m",
      "\u001b[1;31mNameError\u001b[0m                                 Traceback (most recent call last)",
      "Input \u001b[1;32mIn [64]\u001b[0m, in \u001b[0;36m<cell line: 6>\u001b[1;34m()\u001b[0m\n\u001b[0;32m      3\u001b[0m     tagger\u001b[38;5;241m.\u001b[39mtrain(train_set, \u001b[38;5;124m\"\u001b[39m\u001b[38;5;124mmodel.crf.tagger\u001b[39m\u001b[38;5;124m\"\u001b[39m)\n\u001b[0;32m      4\u001b[0m     \u001b[38;5;28;01mreturn\u001b[39;00m tagger\n\u001b[1;32m----> 6\u001b[0m tagger \u001b[38;5;241m=\u001b[39m \u001b[43mtrain_CRF_NER_tagger\u001b[49m\u001b[43m(\u001b[49m\u001b[43mtrain_set\u001b[49m\u001b[43m)\u001b[49m\n",
      "Input \u001b[1;32mIn [64]\u001b[0m, in \u001b[0;36mtrain_CRF_NER_tagger\u001b[1;34m(train_set)\u001b[0m\n\u001b[0;32m      1\u001b[0m \u001b[38;5;28;01mdef\u001b[39;00m \u001b[38;5;21mtrain_CRF_NER_tagger\u001b[39m(train_set):\n\u001b[1;32m----> 2\u001b[0m     tagger \u001b[38;5;241m=\u001b[39m \u001b[43mnltk\u001b[49m\u001b[38;5;241;43m.\u001b[39;49m\u001b[43mtag\u001b[49m\u001b[38;5;241;43m.\u001b[39;49m\u001b[43mCRFTagger\u001b[49m\u001b[43m(\u001b[49m\u001b[43m)\u001b[49m\n\u001b[0;32m      3\u001b[0m     tagger\u001b[38;5;241m.\u001b[39mtrain(train_set, \u001b[38;5;124m\"\u001b[39m\u001b[38;5;124mmodel.crf.tagger\u001b[39m\u001b[38;5;124m\"\u001b[39m)\n\u001b[0;32m      4\u001b[0m     \u001b[38;5;28;01mreturn\u001b[39;00m tagger\n",
      "File \u001b[1;32m~\\anaconda3\\lib\\site-packages\\nltk\\tag\\crf.py:81\u001b[0m, in \u001b[0;36mCRFTagger.__init__\u001b[1;34m(self, feature_func, verbose, training_opt)\u001b[0m\n\u001b[0;32m     49\u001b[0m \u001b[38;5;124;03m\"\"\"\u001b[39;00m\n\u001b[0;32m     50\u001b[0m \u001b[38;5;124;03mInitialize the CRFSuite tagger\u001b[39;00m\n\u001b[0;32m     51\u001b[0m \n\u001b[1;32m   (...)\u001b[0m\n\u001b[0;32m     77\u001b[0m \u001b[38;5;124;03m    :'max_linesearch':  The maximum number of trials for the line search algorithm.\u001b[39;00m\n\u001b[0;32m     78\u001b[0m \u001b[38;5;124;03m\"\"\"\u001b[39;00m\n\u001b[0;32m     80\u001b[0m \u001b[38;5;28mself\u001b[39m\u001b[38;5;241m.\u001b[39m_model_file \u001b[38;5;241m=\u001b[39m \u001b[38;5;124m\"\u001b[39m\u001b[38;5;124m\"\u001b[39m\n\u001b[1;32m---> 81\u001b[0m \u001b[38;5;28mself\u001b[39m\u001b[38;5;241m.\u001b[39m_tagger \u001b[38;5;241m=\u001b[39m \u001b[43mpycrfsuite\u001b[49m\u001b[38;5;241m.\u001b[39mTagger()\n\u001b[0;32m     83\u001b[0m \u001b[38;5;28;01mif\u001b[39;00m feature_func \u001b[38;5;129;01mis\u001b[39;00m \u001b[38;5;28;01mNone\u001b[39;00m:\n\u001b[0;32m     84\u001b[0m     \u001b[38;5;28mself\u001b[39m\u001b[38;5;241m.\u001b[39m_feature_func \u001b[38;5;241m=\u001b[39m \u001b[38;5;28mself\u001b[39m\u001b[38;5;241m.\u001b[39m_get_features\n",
      "\u001b[1;31mNameError\u001b[0m: name 'pycrfsuite' is not defined"
     ]
    }
   ],
   "source": [
    "def train_CRF_NER_tagger(train_set):\n",
    "    tagger = nltk.tag.CRFTagger()\n",
    "    tagger.train(train_set, \"model.crf.tagger\")\n",
    "    return tagger\n",
    "\n",
    "tagger = train_CRF_NER_tagger(train_set)"
   ]
  },
  {
   "cell_type": "code",
   "execution_count": null,
   "id": "7199adb1-65c7-4053-9b8c-2086261cb31a",
   "metadata": {},
   "outputs": [],
   "source": []
  }
 ],
 "metadata": {
  "kernelspec": {
   "display_name": "Python 3 (ipykernel)",
   "language": "python",
   "name": "python3"
  },
  "language_info": {
   "codemirror_mode": {
    "name": "ipython",
    "version": 3
   },
   "file_extension": ".py",
   "mimetype": "text/x-python",
   "name": "python",
   "nbconvert_exporter": "python",
   "pygments_lexer": "ipython3",
   "version": "3.9.12"
  }
 },
 "nbformat": 4,
 "nbformat_minor": 5
}
