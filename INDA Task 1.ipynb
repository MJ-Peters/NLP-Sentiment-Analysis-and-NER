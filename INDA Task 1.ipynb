{
 "cells": [
  {
   "cell_type": "markdown",
   "id": "d2258190-a45c-4676-b348-a2a874133acd",
   "metadata": {},
   "source": [
    "# Task One -- Sentiment Analysis (FiQA SA)"
   ]
  },
  {
   "cell_type": "markdown",
   "id": "31172726-be27-4dd4-95a3-5cf69107bcfb",
   "metadata": {},
   "source": [
    "## Importing Packages for Part One"
   ]
  },
  {
   "cell_type": "code",
   "execution_count": 1,
   "id": "c77dc957-6515-46fd-9df3-6b4d894c5ff8",
   "metadata": {},
   "outputs": [
    {
     "ename": "ModuleNotFoundError",
     "evalue": "No module named 'datasets'",
     "output_type": "error",
     "traceback": [
      "\u001B[1;31m---------------------------------------------------------------------------\u001B[0m",
      "\u001B[1;31mModuleNotFoundError\u001B[0m                       Traceback (most recent call last)",
      "Cell \u001B[1;32mIn[1], line 1\u001B[0m\n\u001B[1;32m----> 1\u001B[0m \u001B[38;5;28;01mfrom\u001B[39;00m \u001B[38;5;21;01mdatasets\u001B[39;00m \u001B[38;5;28;01mimport\u001B[39;00m load_dataset \u001B[38;5;66;03m# Doesn't work on PyCharm\u001B[39;00m\n\u001B[0;32m      2\u001B[0m \u001B[38;5;28;01mfrom\u001B[39;00m \u001B[38;5;21;01msklearn\u001B[39;00m\u001B[38;5;21;01m.\u001B[39;00m\u001B[38;5;21;01mmodel_selection\u001B[39;00m \u001B[38;5;28;01mimport\u001B[39;00m train_test_split\n\u001B[0;32m      3\u001B[0m \u001B[38;5;28;01mfrom\u001B[39;00m \u001B[38;5;21;01msklearn\u001B[39;00m\u001B[38;5;21;01m.\u001B[39;00m\u001B[38;5;21;01mfeature_extraction\u001B[39;00m\u001B[38;5;21;01m.\u001B[39;00m\u001B[38;5;21;01mtext\u001B[39;00m \u001B[38;5;28;01mimport\u001B[39;00m CountVectorizer\n",
      "\u001B[1;31mModuleNotFoundError\u001B[0m: No module named 'datasets'"
     ]
    }
   ],
   "source": [
    "from datasets import load_dataset # Doesn't work on PyCharm\n",
    "from sklearn.model_selection import train_test_split\n",
    "from sklearn.feature_extraction.text import CountVectorizer\n",
    "from sklearn.naive_bayes import MultinomialNB\n",
    "from sklearn.linear_model import LogisticRegression\n",
    "from sklearn.metrics import accuracy_score, precision_score, recall_score, f1_score, classification_report\n",
    "from nltk.tokenize import word_tokenize\n",
    "from nltk.corpus import stopwords\n",
    "from nltk.stem import WordNetLemmatizer\n",
    "import reprlib\n",
    "\n",
    "import numpy as np\n",
    "import matplotlib.pyplot as plt\n",
    "import json"
   ]
  },
  {
   "cell_type": "markdown",
   "id": "c0175e53-6567-4b29-99b1-baa40d4d7ee7",
   "metadata": {
    "tags": []
   },
   "source": [
    "## Importing the Training Files"
   ]
  },
  {
   "cell_type": "code",
   "execution_count": null,
   "id": "0eaf1ffb-b5ce-4a3e-93a1-91a20385381d",
   "metadata": {},
   "outputs": [],
   "source": [
    "train_files = [\"data_cache/FiQA_ABSA_task1/task1_headline_ABSA_train.json\",\n",
    "               \"data_cache/FiQA_ABSA_task1/task1_post_ABSA_train.json\"]"
   ]
  },
  {
   "cell_type": "code",
   "execution_count": 231,
   "id": "422d1622-0ff6-45ae-b225-a66a87900ab0",
   "metadata": {},
   "outputs": [
    {
     "name": "stdout",
     "output_type": "stream",
     "text": [
      "Number of instances: 1111\n",
      "Number of labels: 1111\n",
      "Number of negative labels: 310\n",
      "Number of neutral labels: 195\n",
      "Number of positive labels: 606\n"
     ]
    }
   ],
   "source": [
    "def load_fiqa_sa_from_json(json_files):\n",
    "    train_text = []\n",
    "    train_labels = []\n",
    "\n",
    "    for file in json_files:\n",
    "        with open(file, \"r\", encoding=\"utf-8\") as handle:  # UTF-8 is needed to prevent a UnicodeDecodeError it caused\n",
    "            dataf = json.load(handle)\n",
    "\n",
    "        dataf_text = [dataf[k][\"sentence\"] for k in dataf.keys()]\n",
    "        # print(len(dataf_text))\n",
    "        train_text.extend(dataf_text)\n",
    "\n",
    "        dataf_labels = [float(dataf[k][\"info\"][0][\"sentiment_score\"]) for k in dataf.keys()]\n",
    "        # print(len(dataf_labels))\n",
    "        train_labels.extend(dataf_labels)\n",
    "\n",
    "    train_text = np.array(train_text)\n",
    "    train_labels = np.array(train_labels)\n",
    "    \n",
    "    return train_text, train_labels\n",
    "\n",
    "\n",
    "def threshold_scores(scores):\n",
    "    \"\"\"\n",
    "    Convert sentiment scores to discrete labels.\n",
    "    0 = negative.\n",
    "    1 = neutral.\n",
    "    2 = positive.\n",
    "    \"\"\"\n",
    "    labels = []\n",
    "    for score in scores:\n",
    "        if score < -0.2:\n",
    "            labels.append(0)\n",
    "        elif score > 0.2:\n",
    "            labels.append(2)\n",
    "        else:\n",
    "            labels.append(1)\n",
    "            \n",
    "    return np.array(labels)\n",
    "\n",
    "\n",
    "all_text, all_labels = load_fiqa_sa_from_json(train_files)\n",
    "    \n",
    "print(f\"Number of instances: {len(all_text)}\")\n",
    "print(f\"Number of labels: {len(all_labels)}\")\n",
    "\n",
    "all_labels = threshold_scores(all_labels)\n",
    "print(f\"Number of negative labels: {np.sum(all_labels==0)}\")\n",
    "print(f\"Number of neutral labels: {np.sum(all_labels==1)}\")\n",
    "print(f\"Number of positive labels: {np.sum(all_labels==2)}\")"
   ]
  },
  {
   "cell_type": "markdown",
   "id": "efcda60a-6871-4c7c-851e-aff0d51eea9b",
   "metadata": {},
   "source": [
    "## Creating the Test Split"
   ]
  },
  {
   "cell_type": "code",
   "execution_count": 232,
   "id": "bef424c5-d3e7-4e24-b51d-b82a823d3868",
   "metadata": {},
   "outputs": [
    {
     "name": "stdout",
     "output_type": "stream",
     "text": [
      "Number of training instances = 754\n",
      "Number of validation instances = 134\n",
      "Number of test instances = 223\n",
      "\n",
      "What does one instance look like from the training set?:\n",
      "$AMCN pushing highs\n",
      "...and here is its corresponding sentiment label: 2\n"
     ]
    }
   ],
   "source": [
    "# Split test data from training data\n",
    "train_documents, test_documents, train_labels, test_labels = train_test_split(\n",
    "    all_text, \n",
    "    all_labels, \n",
    "    test_size=0.2, \n",
    "    stratify=all_labels)  # make sure the same proportion of labels is in the test set and training set\n",
    "\n",
    "# Split validation data from training data\n",
    "train_documents, val_documents, train_labels, val_labels = train_test_split(\n",
    "    train_documents, \n",
    "    train_labels, \n",
    "    test_size=0.15, \n",
    "    stratify=train_labels)  # make sure the same proportion of labels is in the test set and training set\n",
    "\n",
    "print(f\"Number of training instances = {len(train_documents)}\")\n",
    "print(f\"Number of validation instances = {len(val_documents)}\")\n",
    "print(f\"Number of test instances = {len(test_documents)}\")\n",
    "\n",
    "print(f\"\\nWhat does one instance look like from the training set?:\\n{train_documents[234]}\")\n",
    "print(f\"...and here is its corresponding sentiment label: {train_labels[234]}\")"
   ]
  },
  {
   "cell_type": "markdown",
   "id": "c41efc92-c6d8-435f-819e-2d1a632522ce",
   "metadata": {},
   "source": [
    "## Preprocessing the Data"
   ]
  },
  {
   "cell_type": "markdown",
   "id": "e2426b82-1db7-46dc-8962-f1d849eee28b",
   "metadata": {},
   "source": [
    "### Tokenizing, Stop Word Removal, Case Folding, and Lemmatisation"
   ]
  },
  {
   "cell_type": "code",
   "execution_count": 233,
   "id": "055a1f12-69d0-43cf-a5a2-1466ca62075c",
   "metadata": {},
   "outputs": [],
   "source": [
    "# import nltk\n",
    "# nltk.download('omw-1.4')\n",
    "# nltk.download('stopwords')"
   ]
  },
  {
   "cell_type": "code",
   "execution_count": 234,
   "id": "5ef5328c-0723-4b1c-8bc0-d3d08ca8fd5c",
   "metadata": {},
   "outputs": [
    {
     "name": "stderr",
     "output_type": "stream",
     "text": [
      "C:\\Users\\misha\\anaconda3\\lib\\site-packages\\sklearn\\feature_extraction\\text.py:516: UserWarning: The parameter 'token_pattern' will not be used since 'tokenizer' is not None'\n",
      "  warnings.warn(\n",
      "C:\\Users\\misha\\anaconda3\\lib\\site-packages\\sklearn\\feature_extraction\\text.py:396: UserWarning: Your stop_words may be inconsistent with your preprocessing. Tokenizing the stop words generated tokens ['ha', 'le', 'u', 'wa'] not in stop_words.\n",
      "  warnings.warn(\n"
     ]
    }
   ],
   "source": [
    "# Define the stop words\n",
    "stopwords_list = stopwords.words(\"english\")\n",
    "\n",
    "class LemmaTokenizer(object):\n",
    "    def __call__(self, documents):\n",
    "        lemmatizer = WordNetLemmatizer()\n",
    "        return [lemmatizer.lemmatize(word.lower()) for word in word_tokenize(documents)]\n",
    "    \n",
    "vectorizer_Lem = CountVectorizer(tokenizer=LemmaTokenizer(), stop_words='english')\n",
    "\n",
    "vectorizer_Lem.fit(train_documents)  # Learn the vocabulary\n",
    "X_train_Lem = vectorizer_Lem.transform(train_documents) # extract training set bags of words\n",
    "X_val_Lem = vectorizer_Lem.transform(val_documents) # extract validation set bags of words\n",
    "X_test_Lem = vectorizer_Lem.transform(test_documents)  # extract test set bags of words"
   ]
  },
  {
   "cell_type": "code",
   "execution_count": 235,
   "id": "2f5ad734-2d1b-46b2-bd29-6f68a4e04550",
   "metadata": {},
   "outputs": [
    {
     "name": "stdout",
     "output_type": "stream",
     "text": [
      "Vocabulary size = 2684\n"
     ]
    }
   ],
   "source": [
    "vocabulary_Lem = vectorizer_Lem.vocabulary_\n",
    "print(f\"Vocabulary size = {len(vocabulary)}\")"
   ]
  },
  {
   "cell_type": "markdown",
   "id": "28470e85-a42d-4d4f-b72b-ffc437351c66",
   "metadata": {},
   "source": [
    "### Tokenizing, Stop Word Removal, Case Folding, and no Lemmatisation"
   ]
  },
  {
   "cell_type": "code",
   "execution_count": 236,
   "id": "707bbb01-5e01-4fd5-8d06-4cf41db6c61f",
   "metadata": {},
   "outputs": [],
   "source": [
    "# Define the stop words\n",
    "stopwords_list = stopwords.words(\"english\")\n",
    "\n",
    "class Tokenizer(object):\n",
    "    def __call__(self, documents):\n",
    "        return word_tokenize(documents.lower())\n",
    "\n",
    "vectorizer = CountVectorizer(tokenizer=Tokenizer(), stop_words='english')\n",
    "\n",
    "vectorizer.fit(train_documents)  # Learn the vocabulary\n",
    "X_train = vectorizer.transform(train_documents) # extract training set bags of words\n",
    "X_val = vectorizer.transform(val_documents) # extract validation set bags of words\n",
    "X_test = vectorizer.transform(test_documents)  # extract test set bags of words"
   ]
  },
  {
   "cell_type": "markdown",
   "id": "9d5019ea-7d79-4280-a0ff-208b6374d991",
   "metadata": {},
   "source": [
    "## Applying Naive Bayes to Lem set"
   ]
  },
  {
   "cell_type": "code",
   "execution_count": 237,
   "id": "e78e42c3-8241-4933-b951-53006272ce24",
   "metadata": {},
   "outputs": [
    {
     "data": {
      "text/plain": [
       "MultinomialNB()"
      ]
     },
     "execution_count": 237,
     "metadata": {},
     "output_type": "execute_result"
    }
   ],
   "source": [
    "# Defining the classifier\n",
    "classifier_Lem = MultinomialNB()\n",
    "\n",
    "# Training the classifier\n",
    "classifier_Lem.fit(X_train_Lem, train_labels)"
   ]
  },
  {
   "cell_type": "code",
   "execution_count": 238,
   "id": "47d52117-5797-4116-af0f-27e2cf43cc7b",
   "metadata": {},
   "outputs": [],
   "source": [
    "# Testing the classifier\n",
    "y_val_pred_Lem = classifier_Lem.predict(X_val_Lem)"
   ]
  },
  {
   "cell_type": "code",
   "execution_count": 243,
   "id": "1f972d1f-ae04-48ba-bf39-69ec66cc3774",
   "metadata": {},
   "outputs": [
    {
     "name": "stdout",
     "output_type": "stream",
     "text": [
      "Accuracy = 0.6492537313432836\n",
      "Precision (macro average) = 0.6773448773448774\n",
      "Recall (macro average) = 0.5251552922785799\n",
      "F1 score (micro average) = 0.6492537313432836\n",
      "F1 score (macro average) = 0.5487718274235128\n",
      "              precision    recall  f1-score   support\n",
      "\n",
      "           0       0.67      0.32      0.44        37\n",
      "           1       0.73      0.33      0.46        24\n",
      "           2       0.64      0.92      0.75        73\n",
      "\n",
      "    accuracy                           0.65       134\n",
      "   macro avg       0.68      0.53      0.55       134\n",
      "weighted avg       0.66      0.65      0.61       134\n",
      "\n"
     ]
    }
   ],
   "source": [
    "acc_lem = accuracy_score(val_labels, y_val_pred_Lem)\n",
    "print(f'Accuracy = {acc_lem}')\n",
    "\n",
    "prec_lem = precision_score(val_labels, y_val_pred_Lem, average='macro')\n",
    "print(f'Precision (macro average) = {prec_lem}')\n",
    "\n",
    "rec_lem = recall_score(val_labels, y_val_pred_Lem, average='macro')\n",
    "print(f'Recall (macro average) = {rec_lem}')\n",
    "\n",
    "f1_micro_lem = f1_score(val_labels, y_val_pred_Lem, average='micro')\n",
    "print(f'F1 score (micro average) = {f1_micro_lem}')\n",
    "\n",
    "f1_macro_lem = f1_score(val_labels, y_val_pred_Lem, average='macro')\n",
    "print(f'F1 score (macro average) = {f1_macro_lem}')\n",
    "\n",
    "# We can get all of these with a per-class breakdown using classification_report:\n",
    "print(classification_report(val_labels, y_val_pred_Lem))"
   ]
  },
  {
   "cell_type": "markdown",
   "id": "f308d213-f2a8-43d1-a0e7-f8b386d6095d",
   "metadata": {},
   "source": [
    "## Applying Naive Bayes to non Lem set"
   ]
  },
  {
   "cell_type": "code",
   "execution_count": 240,
   "id": "f7d5964e-7713-4d4f-b8ae-1448620c0336",
   "metadata": {},
   "outputs": [
    {
     "data": {
      "text/plain": [
       "MultinomialNB()"
      ]
     },
     "execution_count": 240,
     "metadata": {},
     "output_type": "execute_result"
    }
   ],
   "source": [
    "# Defining the classifier\n",
    "classifier = MultinomialNB()\n",
    "\n",
    "# Training the classifier\n",
    "classifier.fit(X_train, train_labels)"
   ]
  },
  {
   "cell_type": "code",
   "execution_count": 241,
   "id": "22e5d098-0cbf-4ca8-a1ef-8f6c306096bb",
   "metadata": {},
   "outputs": [],
   "source": [
    "# Testing the classifier\n",
    "y_val_pred = classifier.predict(X_val)"
   ]
  },
  {
   "cell_type": "code",
   "execution_count": 242,
   "id": "510907bd-38f2-453e-a97d-278e5b6be89e",
   "metadata": {},
   "outputs": [
    {
     "name": "stdout",
     "output_type": "stream",
     "text": [
      "Accuracy = 0.664179104477612\n",
      "Precision (macro average) = 0.6846153846153845\n",
      "Recall (macro average) = 0.5484902710930109\n",
      "F1 score (micro average) = 0.664179104477612\n",
      "F1 score (macro average) = 0.56808633927278\n",
      "              precision    recall  f1-score   support\n",
      "\n",
      "           0       0.73      0.30      0.42        37\n",
      "           1       0.67      0.42      0.51        24\n",
      "           2       0.65      0.93      0.77        73\n",
      "\n",
      "    accuracy                           0.66       134\n",
      "   macro avg       0.68      0.55      0.57       134\n",
      "weighted avg       0.68      0.66      0.63       134\n",
      "\n"
     ]
    }
   ],
   "source": [
    "acc = accuracy_score(val_labels, y_val_pred)\n",
    "print(f'Accuracy = {acc}')\n",
    "\n",
    "prec = precision_score(val_labels, y_val_pred, average='macro')\n",
    "print(f'Precision (macro average) = {prec}')\n",
    "\n",
    "rec = recall_score(val_labels, y_val_pred, average='macro')\n",
    "print(f'Recall (macro average) = {rec}')\n",
    "\n",
    "f1_micro = f1_score(val_labels, y_val_pred, average='micro')\n",
    "print(f'F1 score (micro average) = {f1_micro}')\n",
    "\n",
    "f1_macro = f1_score(val_labels, y_val_pred, average='macro')\n",
    "print(f'F1 score (macro average) = {f1_macro}')\n",
    "\n",
    "# We can get all of these with a per-class breakdown using classification_report:\n",
    "print(classification_report(val_labels, y_val_pred))"
   ]
  },
  {
   "cell_type": "markdown",
   "id": "ac5fdda4-cc3d-4930-be2d-f184ae4bf567",
   "metadata": {},
   "source": [
    "## Applying Logistic Regression to Lem set"
   ]
  },
  {
   "cell_type": "code",
   "execution_count": 258,
   "id": "30511b61-51f5-4428-9be8-bb831784e76c",
   "metadata": {},
   "outputs": [
    {
     "data": {
      "text/plain": [
       "LogisticRegression()"
      ]
     },
     "execution_count": 258,
     "metadata": {},
     "output_type": "execute_result"
    }
   ],
   "source": [
    "# Defining the classifier\n",
    "logi_classifier_Lem = LogisticRegression()\n",
    "\n",
    "# Training the classifier\n",
    "logi_classifier_Lem.fit(X_train_Lem, train_labels)"
   ]
  },
  {
   "cell_type": "code",
   "execution_count": 259,
   "id": "8567d3f0-127c-4a1c-9c35-aef0399c38c8",
   "metadata": {},
   "outputs": [],
   "source": [
    "# Testing the classifier\n",
    "y_val_pred_logi_Lem = logi_classifier_Lem.predict(X_val_Lem)"
   ]
  },
  {
   "cell_type": "code",
   "execution_count": 260,
   "id": "7c4d18bf-a978-4402-9f70-b1046ef955fa",
   "metadata": {},
   "outputs": [
    {
     "name": "stdout",
     "output_type": "stream",
     "text": [
      "Accuracy = 0.6940298507462687\n",
      "Precision (macro average) = 0.7155448717948718\n",
      "Recall (macro average) = 0.5889691060923937\n",
      "F1 score (micro average) = 0.6940298507462687\n",
      "F1 score (macro average) = 0.6187971572586957\n",
      "              precision    recall  f1-score   support\n",
      "\n",
      "           0       0.62      0.43      0.51        37\n",
      "           1       0.83      0.42      0.56        24\n",
      "           2       0.70      0.92      0.79        73\n",
      "\n",
      "    accuracy                           0.69       134\n",
      "   macro avg       0.72      0.59      0.62       134\n",
      "weighted avg       0.70      0.69      0.67       134\n",
      "\n"
     ]
    }
   ],
   "source": [
    "acc_logi_lem = accuracy_score(val_labels, y_val_pred_logi_Lem)\n",
    "print(f'Accuracy = {acc_logi_lem}')\n",
    "\n",
    "prec_logi_lem = precision_score(val_labels, y_val_pred_logi_Lem, average='macro')\n",
    "print(f'Precision (macro average) = {prec_logi_lem}')\n",
    "\n",
    "rec_logi_lem = recall_score(val_labels, y_val_pred_logi_Lem, average='macro')\n",
    "print(f'Recall (macro average) = {rec_logi_lem}')\n",
    "\n",
    "f1_micro_logi_lem = f1_score(val_labels, y_val_pred_logi_Lem, average='micro')\n",
    "print(f'F1 score (micro average) = {f1_micro_logi_lem}')\n",
    "\n",
    "f1_macro_logi_lem = f1_score(val_labels, y_val_pred_logi_Lem, average='macro')\n",
    "print(f'F1 score (macro average) = {f1_macro_logi_lem}')\n",
    "\n",
    "# We can get all of these with a per-class breakdown using classification_report:\n",
    "print(classification_report(val_labels, y_val_pred_logi_Lem))"
   ]
  },
  {
   "cell_type": "markdown",
   "id": "c436562c-d8de-48ef-8424-9c240fc7e0ff",
   "metadata": {},
   "source": [
    "## Applying Logistic Regression to non Lem set"
   ]
  },
  {
   "cell_type": "code",
   "execution_count": 266,
   "id": "d00854a4-29b1-45a1-8e11-c3d3b7a2ed5c",
   "metadata": {},
   "outputs": [
    {
     "data": {
      "text/plain": [
       "LogisticRegression()"
      ]
     },
     "execution_count": 266,
     "metadata": {},
     "output_type": "execute_result"
    }
   ],
   "source": [
    "# Defining the classifier\n",
    "logi_classifier = LogisticRegression()\n",
    "\n",
    "# Training the classifier\n",
    "logi_classifier.fit(X_train, train_labels)"
   ]
  },
  {
   "cell_type": "code",
   "execution_count": 267,
   "id": "fb7fc275-3dd9-48d9-ab3e-555ebf1079b9",
   "metadata": {},
   "outputs": [],
   "source": [
    "# Testing the classifier\n",
    "y_val_pred_logi = logi_classifier.predict(X_val)"
   ]
  },
  {
   "cell_type": "code",
   "execution_count": 268,
   "id": "1b0f81fd-2912-4e1b-943d-6dcf761c8568",
   "metadata": {},
   "outputs": [
    {
     "name": "stdout",
     "output_type": "stream",
     "text": [
      "Accuracy = 0.6492537313432836\n",
      "Precision (macro average) = 0.6452791195059236\n",
      "Recall (macro average) = 0.5340408902052738\n",
      "F1 score (micro average) = 0.6492537313432836\n",
      "F1 score (macro average) = 0.5554310613134144\n",
      "              precision    recall  f1-score   support\n",
      "\n",
      "           0       0.54      0.38      0.44        37\n",
      "           1       0.73      0.33      0.46        24\n",
      "           2       0.67      0.89      0.76        73\n",
      "\n",
      "    accuracy                           0.65       134\n",
      "   macro avg       0.65      0.53      0.56       134\n",
      "weighted avg       0.64      0.65      0.62       134\n",
      "\n"
     ]
    }
   ],
   "source": [
    "acc_logi = accuracy_score(val_labels, y_val_pred_logi)\n",
    "print(f'Accuracy = {acc_logi}')\n",
    "\n",
    "prec_logi = precision_score(val_labels, y_val_pred_logi, average='macro')\n",
    "print(f'Precision (macro average) = {prec_logi}')\n",
    "\n",
    "rec_logi = recall_score(val_labels, y_val_pred_logi, average='macro')\n",
    "print(f'Recall (macro average) = {rec_logi}')\n",
    "\n",
    "f1_micro_logi = f1_score(val_labels, y_val_pred_logi, average='micro')\n",
    "print(f'F1 score (micro average) = {f1_micro_logi}')\n",
    "\n",
    "f1_macro_logi = f1_score(val_labels, y_val_pred_logi, average='macro')\n",
    "print(f'F1 score (macro average) = {f1_macro_logi}')\n",
    "\n",
    "# We can get all of these with a per-class breakdown using classification_report:\n",
    "print(classification_report(val_labels, y_val_pred_logi))"
   ]
  },
  {
   "cell_type": "markdown",
   "id": "de24d7d2-6dc2-4362-81a6-4351956975a4",
   "metadata": {},
   "source": [
    "## Comparing Lem to Non Lem"
   ]
  },
  {
   "cell_type": "code",
   "execution_count": 294,
   "id": "618f457c-8673-4655-afd0-0f96e0b64d6c",
   "metadata": {},
   "outputs": [
    {
     "data": {
      "image/png": "[encoded data removed]",
      "text/plain": [
       "<Figure size 432x288 with 1 Axes>"
      ]
     },
     "metadata": {
      "needs_background": "light"
     },
     "output_type": "display_data"
    }
   ],
   "source": [
    "# define the different metrics and their scores for bayes with lem\n",
    "metrics = [\"Accuracy\", \"Precision\", \"Recall\", \"F1 Micro\", \"F1 Macro\"]\n",
    "bayes_lem = [acc_lem, prec_lem, rec_lem, f1_micro_lem, f1_macro_lem]\n",
    "\n",
    "# define their scores for Bayes non lem\n",
    "bayes_non_lem = [acc, prec, rec, f1_micro, f1_macro]\n",
    "\n",
    "# Logistic Regresion with Lemmatisation\n",
    "logi_lem = [acc_logi_lem, prec_logi_lem, rec_logi_lem, f1_micro_logi_lem, f1_macro_logi_lem]\n",
    "\n",
    "# Logistic Regresion sans Lemmatisation\n",
    "logi = [acc_logi, prec_logi, rec_logi, f1_micro_logi, f1_macro_logi]\n",
    "\n",
    "# set the width of the bars\n",
    "bar_width = 0.15\n",
    "\n",
    "# set the x-positions of the bars\n",
    "r1 = np.arange(len(metrics))\n",
    "r2 = [x + bar_width for x in r1]\n",
    "r3 = [x + bar_width for x in r2]\n",
    "r4 = [x + bar_width for x in r3]\n",
    "\n",
    "# create the bar plot\n",
    "plt.bar(r1, bayes_lem, color=\"tab:blue\", width=bar_width, edgecolor=\"black\", label=\"Naive Bayes with Lemmatisation\")\n",
    "plt.bar(r2, bayes_non_lem, color=\"tab:orange\", width=bar_width, edgecolor=\"black\", label=\"Naive Bayes without Lemmatisation\")\n",
    "plt.bar(r3, logi_lem, color=\"tab:green\", width=bar_width, edgecolor=\"black\", label=\"Logistic Regression with Lemmatisation\")\n",
    "plt.bar(r4, logi, color=\"tab:red\", width=bar_width, edgecolor=\"black\", label=\"Logistic Regression without Lemmatisation\")\n",
    "\n",
    "# add labels and title\n",
    "plt.xlabel(\"Metrics\")\n",
    "plt.ylabel(\"Score\")\n",
    "plt.xticks([r + bar_width*2 for r in range(len(metrics))], metrics)\n",
    "plt.title(\"Comparison of Model Metrics\")\n",
    "\n",
    "# set y-axis limits\n",
    "plt.ylim(0.5, 0.85)\n",
    "\n",
    "# add legend\n",
    "plt.legend()\n",
    "\n",
    "# show the plot\n",
    "plt.grid(axis=\"y\")\n",
    "plt.savefig(\"model_comparison.png\", dpi=300)\n",
    "plt.show()"
   ]
  },
  {
   "cell_type": "code",
   "execution_count": null,
   "id": "3127b702-d943-4a27-9962-33514d2ebd8d",
   "metadata": {},
   "outputs": [],
   "source": []
  }
 ],
 "metadata": {
  "kernelspec": {
   "display_name": "Python 3 (ipykernel)",
   "language": "python",
   "name": "python3"
  },
  "language_info": {
   "codemirror_mode": {
    "name": "ipython",
    "version": 3
   },
   "file_extension": ".py",
   "mimetype": "text/x-python",
   "name": "python",
   "nbconvert_exporter": "python",
   "pygments_lexer": "ipython3",
   "version": "3.9.12"
  }
 },
 "nbformat": 4,
 "nbformat_minor": 5
}
