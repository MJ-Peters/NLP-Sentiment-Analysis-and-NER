{
 "cells": [
  {
   "cell_type": "markdown",
   "id": "d2258190-a45c-4676-b348-a2a874133acd",
   "metadata": {},
   "source": [
    "# Task One -- Sentiment Analysis (FiQA SA)"
   ]
  },
  {
   "cell_type": "markdown",
   "id": "31172726-be27-4dd4-95a3-5cf69107bcfb",
   "metadata": {},
   "source": [
    "## Importing Packages"
   ]
  },
  {
   "cell_type": "code",
   "execution_count": 1,
   "id": "c77dc957-6515-46fd-9df3-6b4d894c5ff8",
   "metadata": {},
   "outputs": [
    {
     "ename": "ModuleNotFoundError",
     "evalue": "No module named 'datasets'",
     "output_type": "error",
     "traceback": [
      "\u001B[1;31m---------------------------------------------------------------------------\u001B[0m",
      "\u001B[1;31mModuleNotFoundError\u001B[0m                       Traceback (most recent call last)",
      "Cell \u001B[1;32mIn[1], line 1\u001B[0m\n\u001B[1;32m----> 1\u001B[0m \u001B[38;5;28;01mfrom\u001B[39;00m \u001B[38;5;21;01mdatasets\u001B[39;00m \u001B[38;5;28;01mimport\u001B[39;00m load_dataset \u001B[38;5;66;03m# Doesn't work on PyCharm\u001B[39;00m\n\u001B[0;32m      2\u001B[0m \u001B[38;5;28;01mfrom\u001B[39;00m \u001B[38;5;21;01msklearn\u001B[39;00m\u001B[38;5;21;01m.\u001B[39;00m\u001B[38;5;21;01mmodel_selection\u001B[39;00m \u001B[38;5;28;01mimport\u001B[39;00m train_test_split\n\u001B[0;32m      3\u001B[0m \u001B[38;5;28;01mfrom\u001B[39;00m \u001B[38;5;21;01msklearn\u001B[39;00m\u001B[38;5;21;01m.\u001B[39;00m\u001B[38;5;21;01mfeature_extraction\u001B[39;00m\u001B[38;5;21;01m.\u001B[39;00m\u001B[38;5;21;01mtext\u001B[39;00m \u001B[38;5;28;01mimport\u001B[39;00m CountVectorizer\n",
      "\u001B[1;31mModuleNotFoundError\u001B[0m: No module named 'datasets'"
     ]
    }
   ],
   "source": [
    "from datasets import load_dataset # Doesn't work on PyCharm\n",
    "from sklearn.model_selection import train_test_split\n",
    "from sklearn.feature_extraction.text import CountVectorizer\n",
    "from sklearn.naive_bayes import MultinomialNB\n",
    "from sklearn.linear_model import LogisticRegression\n",
    "from sklearn.metrics import accuracy_score, precision_score, recall_score, f1_score, classification_report\n",
    "from nltk.tokenize import word_tokenize\n",
    "from nltk.corpus import stopwords\n",
    "from nltk.stem import WordNetLemmatizer\n",
    "import nltk\n",
    "import reprlib\n",
    "\n",
    "from gensim.models import LdaModel\n",
    "from gensim.matutils import any2sparse\n",
    "from gensim.corpora import Dictionary\n",
    "from gensim.utils import simple_preprocess\n",
    "\n",
    "import numpy as np\n",
    "import matplotlib.pyplot as plt\n",
    "import json"
   ]
  },
  {
   "cell_type": "markdown",
   "id": "c0175e53-6567-4b29-99b1-baa40d4d7ee7",
   "metadata": {
    "tags": []
   },
   "source": [
    "## Importing the Training Files"
   ]
  },
  {
   "cell_type": "code",
   "execution_count": 33,
   "id": "0eaf1ffb-b5ce-4a3e-93a1-91a20385381d",
   "metadata": {},
   "outputs": [],
   "source": [
    "train_files = [\"data_cache/FiQA_ABSA_task1/task1_headline_ABSA_train.json\",\n",
    "               \"data_cache/FiQA_ABSA_task1/task1_post_ABSA_train.json\"]"
   ]
  },
  {
   "cell_type": "code",
   "execution_count": 34,
   "id": "422d1622-0ff6-45ae-b225-a66a87900ab0",
   "metadata": {},
   "outputs": [
    {
     "name": "stdout",
     "output_type": "stream",
     "text": [
      "Number of instances: 1111\n",
      "Number of labels: 1111\n",
      "Number of negative labels: 310\n",
      "Number of neutral labels: 195\n",
      "Number of positive labels: 606\n"
     ]
    }
   ],
   "source": [
    "def load_fiqa_sa_from_json(json_files):\n",
    "    train_text = []\n",
    "    train_labels = []\n",
    "\n",
    "    for file in json_files:\n",
    "        with open(file, \"r\", encoding=\"utf-8\") as handle:  # UTF-8 is needed to prevent a UnicodeDecodeError I recieved\n",
    "            dataf = json.load(handle)\n",
    "\n",
    "        dataf_text = [dataf[k][\"sentence\"] for k in dataf.keys()]\n",
    "        # print(len(dataf_text))\n",
    "        train_text.extend(dataf_text)\n",
    "\n",
    "        dataf_labels = [float(dataf[k][\"info\"][0][\"sentiment_score\"]) for k in dataf.keys()]\n",
    "        # print(len(dataf_labels))\n",
    "        train_labels.extend(dataf_labels)\n",
    "\n",
    "    train_text = np.array(train_text)\n",
    "    train_labels = np.array(train_labels)\n",
    "    \n",
    "    return train_text, train_labels\n",
    "\n",
    "\n",
    "def threshold_scores(scores):\n",
    "    \"\"\"\n",
    "    Convert sentiment scores to discrete labels.\n",
    "    0 = negative.\n",
    "    1 = neutral.\n",
    "    2 = positive.\n",
    "    \"\"\"\n",
    "    labels = []\n",
    "    for score in scores:\n",
    "        if score < -0.2:\n",
    "            labels.append(0)\n",
    "        elif score > 0.2:\n",
    "            labels.append(2)\n",
    "        else:\n",
    "            labels.append(1)\n",
    "            \n",
    "    return np.array(labels)\n",
    "\n",
    "\n",
    "all_text, all_labels = load_fiqa_sa_from_json(train_files)\n",
    "    \n",
    "print(f\"Number of instances: {len(all_text)}\")\n",
    "print(f\"Number of labels: {len(all_labels)}\")\n",
    "\n",
    "all_labels = threshold_scores(all_labels)\n",
    "print(f\"Number of negative labels: {np.sum(all_labels==0)}\")\n",
    "print(f\"Number of neutral labels: {np.sum(all_labels==1)}\")\n",
    "print(f\"Number of positive labels: {np.sum(all_labels==2)}\")"
   ]
  },
  {
   "cell_type": "markdown",
   "id": "efcda60a-6871-4c7c-851e-aff0d51eea9b",
   "metadata": {},
   "source": [
    "## Creating the Test Split"
   ]
  },
  {
   "cell_type": "code",
   "execution_count": 35,
   "id": "bef424c5-d3e7-4e24-b51d-b82a823d3868",
   "metadata": {},
   "outputs": [
    {
     "name": "stdout",
     "output_type": "stream",
     "text": [
      "Number of training instances = 754\n",
      "Number of validation instances = 134\n",
      "Number of test instances = 223\n",
      "\n",
      "What does one instance look like from the training set?:\n",
      "Barclays appoints JPMorgan's Paul Compton as new COO\n",
      "...and here is its corresponding sentiment label: 1\n"
     ]
    }
   ],
   "source": [
    "# Split test data from training data\n",
    "train_documents, test_documents, train_labels, test_labels = train_test_split(\n",
    "    all_text, \n",
    "    all_labels, \n",
    "    test_size=0.2, \n",
    "    stratify=all_labels)  # make sure the same proportion of labels is in the test set and training set\n",
    "\n",
    "# Split validation data from training data\n",
    "train_documents, val_documents, train_labels, val_labels = train_test_split(\n",
    "    train_documents, \n",
    "    train_labels, \n",
    "    test_size=0.15, \n",
    "    stratify=train_labels)  # make sure the same proportion of labels is in the test set and training set\n",
    "\n",
    "print(f\"Number of training instances = {len(train_documents)}\")\n",
    "print(f\"Number of validation instances = {len(val_documents)}\")\n",
    "print(f\"Number of test instances = {len(test_documents)}\")\n",
    "\n",
    "print(f\"\\nWhat does one instance look like from the training set?:\\n{train_documents[234]}\")\n",
    "print(f\"...and here is its corresponding sentiment label: {train_labels[234]}\")"
   ]
  },
  {
   "cell_type": "markdown",
   "id": "c41efc92-c6d8-435f-819e-2d1a632522ce",
   "metadata": {},
   "source": [
    "## Preprocessing the Data"
   ]
  },
  {
   "cell_type": "markdown",
   "id": "e2426b82-1db7-46dc-8962-f1d849eee28b",
   "metadata": {},
   "source": [
    "### Tokenizing, Stop Word Removal, Case Folding, and Lemmatisation"
   ]
  },
  {
   "cell_type": "code",
   "execution_count": 36,
   "id": "055a1f12-69d0-43cf-a5a2-1466ca62075c",
   "metadata": {},
   "outputs": [],
   "source": [
    "# import nltk\n",
    "# nltk.download('omw-1.4')\n",
    "# nltk.download('stopwords')"
   ]
  },
  {
   "cell_type": "code",
   "execution_count": 37,
   "id": "5ef5328c-0723-4b1c-8bc0-d3d08ca8fd5c",
   "metadata": {},
   "outputs": [
    {
     "name": "stderr",
     "output_type": "stream",
     "text": [
      "C:\\Users\\misha\\anaconda3\\lib\\site-packages\\sklearn\\feature_extraction\\text.py:516: UserWarning: The parameter 'token_pattern' will not be used since 'tokenizer' is not None'\n",
      "  warnings.warn(\n",
      "C:\\Users\\misha\\anaconda3\\lib\\site-packages\\sklearn\\feature_extraction\\text.py:396: UserWarning: Your stop_words may be inconsistent with your preprocessing. Tokenizing the stop words generated tokens ['ha', 'le', 'u', 'wa'] not in stop_words.\n",
      "  warnings.warn(\n"
     ]
    }
   ],
   "source": [
    "# Define the stop words\n",
    "stopwords_list = stopwords.words(\"english\")\n",
    "\n",
    "class LemmaTokenizer(object):\n",
    "    def __call__(self, documents):\n",
    "        lemmatizer = WordNetLemmatizer()\n",
    "        return [lemmatizer.lemmatize(word.lower()) for word in word_tokenize(documents)]\n",
    "    \n",
    "vectorizer_Lem = CountVectorizer(tokenizer=LemmaTokenizer(), stop_words='english')\n",
    "\n",
    "vectorizer_Lem.fit(train_documents)  # Learn the vocabulary\n",
    "X_train_Lem = vectorizer_Lem.transform(train_documents) # extract training set bags of words\n",
    "X_val_Lem = vectorizer_Lem.transform(val_documents) # extract validation set bags of words\n",
    "X_test_Lem = vectorizer_Lem.transform(test_documents)  # extract test set bags of words"
   ]
  },
  {
   "cell_type": "code",
   "execution_count": 38,
   "id": "2f5ad734-2d1b-46b2-bd29-6f68a4e04550",
   "metadata": {},
   "outputs": [
    {
     "name": "stdout",
     "output_type": "stream",
     "text": [
      "Vocabulary size = 2953\n"
     ]
    }
   ],
   "source": [
    "vocabulary_Lem = vectorizer_Lem.vocabulary_\n",
    "print(f\"Vocabulary size = {len(vocabulary_Lem)}\")"
   ]
  },
  {
   "cell_type": "markdown",
   "id": "28470e85-a42d-4d4f-b72b-ffc437351c66",
   "metadata": {},
   "source": [
    "### Tokenizing, Stop Word Removal, Case Folding, and no Lemmatisation"
   ]
  },
  {
   "cell_type": "code",
   "execution_count": 39,
   "id": "707bbb01-5e01-4fd5-8d06-4cf41db6c61f",
   "metadata": {},
   "outputs": [],
   "source": [
    "# Define the stop words\n",
    "stopwords_list = stopwords.words(\"english\")\n",
    "\n",
    "class Tokenizer(object):\n",
    "    def __call__(self, documents):\n",
    "        return word_tokenize(documents.lower())\n",
    "\n",
    "vectorizer = CountVectorizer(tokenizer=Tokenizer(), stop_words='english')\n",
    "\n",
    "vectorizer.fit(train_documents)  # Learn the vocabulary\n",
    "X_train = vectorizer.transform(train_documents) # extract training set bags of words\n",
    "X_val = vectorizer.transform(val_documents) # extract validation set bags of words\n",
    "X_test = vectorizer.transform(test_documents)  # extract test set bags of words"
   ]
  },
  {
   "cell_type": "markdown",
   "id": "9d5019ea-7d79-4280-a0ff-208b6374d991",
   "metadata": {},
   "source": [
    "## Applying Naive Bayes to Lem set"
   ]
  },
  {
   "cell_type": "code",
   "execution_count": 40,
   "id": "e78e42c3-8241-4933-b951-53006272ce24",
   "metadata": {},
   "outputs": [
    {
     "data": {
      "text/plain": [
       "MultinomialNB()"
      ]
     },
     "execution_count": 40,
     "metadata": {},
     "output_type": "execute_result"
    }
   ],
   "source": [
    "# Defining the classifier\n",
    "classifier_Lem = MultinomialNB()\n",
    "\n",
    "# Training the classifier\n",
    "classifier_Lem.fit(X_train_Lem, train_labels)"
   ]
  },
  {
   "cell_type": "code",
   "execution_count": 41,
   "id": "47d52117-5797-4116-af0f-27e2cf43cc7b",
   "metadata": {},
   "outputs": [],
   "source": [
    "# Testing the classifier\n",
    "y_val_pred_Lem = classifier_Lem.predict(X_test_Lem)"
   ]
  },
  {
   "cell_type": "code",
   "execution_count": 42,
   "id": "1f972d1f-ae04-48ba-bf39-69ec66cc3774",
   "metadata": {},
   "outputs": [
    {
     "name": "stdout",
     "output_type": "stream",
     "text": [
      "Accuracy = 0.672645739910314\n",
      "Precision (macro average) = 0.6912606127722407\n",
      "Recall (macro average) = 0.5362038807305862\n",
      "F1 score (micro average) = 0.672645739910314\n",
      "F1 score (macro average) = 0.5551949515438359\n",
      "              precision    recall  f1-score   support\n",
      "\n",
      "           0       0.65      0.45      0.53        62\n",
      "           1       0.75      0.23      0.35        39\n",
      "           2       0.67      0.93      0.78       122\n",
      "\n",
      "    accuracy                           0.67       223\n",
      "   macro avg       0.69      0.54      0.56       223\n",
      "weighted avg       0.68      0.67      0.64       223\n",
      "\n"
     ]
    }
   ],
   "source": [
    "acc_lem = accuracy_score(test_labels, y_val_pred_Lem)\n",
    "print(f'Accuracy = {acc_lem}')\n",
    "\n",
    "prec_lem = precision_score(test_labels, y_val_pred_Lem, average='macro')\n",
    "print(f'Precision (macro average) = {prec_lem}')\n",
    "\n",
    "rec_lem = recall_score(test_labels, y_val_pred_Lem, average='macro')\n",
    "print(f'Recall (macro average) = {rec_lem}')\n",
    "\n",
    "f1_micro_lem = f1_score(test_labels, y_val_pred_Lem, average='micro')\n",
    "print(f'F1 score (micro average) = {f1_micro_lem}')\n",
    "\n",
    "f1_macro_lem = f1_score(test_labels, y_val_pred_Lem, average='macro')\n",
    "print(f'F1 score (macro average) = {f1_macro_lem}')\n",
    "\n",
    "# We can get all of these with a per-class breakdown using classification_report:\n",
    "print(classification_report(test_labels, y_val_pred_Lem))"
   ]
  },
  {
   "cell_type": "markdown",
   "id": "f308d213-f2a8-43d1-a0e7-f8b386d6095d",
   "metadata": {},
   "source": [
    "## Applying Naive Bayes to non Lem set"
   ]
  },
  {
   "cell_type": "code",
   "execution_count": 43,
   "id": "f7d5964e-7713-4d4f-b8ae-1448620c0336",
   "metadata": {},
   "outputs": [
    {
     "data": {
      "text/plain": [
       "MultinomialNB()"
      ]
     },
     "execution_count": 43,
     "metadata": {},
     "output_type": "execute_result"
    }
   ],
   "source": [
    "# Defining the classifier\n",
    "classifier = MultinomialNB()\n",
    "\n",
    "# Training the classifier\n",
    "classifier.fit(X_train, train_labels)"
   ]
  },
  {
   "cell_type": "code",
   "execution_count": 44,
   "id": "22e5d098-0cbf-4ca8-a1ef-8f6c306096bb",
   "metadata": {},
   "outputs": [],
   "source": [
    "# Testing the classifier\n",
    "y_val_pred = classifier.predict(X_test)"
   ]
  },
  {
   "cell_type": "code",
   "execution_count": 45,
   "id": "510907bd-38f2-453e-a97d-278e5b6be89e",
   "metadata": {},
   "outputs": [
    {
     "name": "stdout",
     "output_type": "stream",
     "text": [
      "Accuracy = 0.6547085201793722\n",
      "Precision (macro average) = 0.6726178190574474\n",
      "Recall (macro average) = 0.5263280406062003\n",
      "F1 score (micro average) = 0.6547085201793722\n",
      "F1 score (macro average) = 0.549227126670049\n",
      "              precision    recall  f1-score   support\n",
      "\n",
      "           0       0.63      0.39      0.48        62\n",
      "           1       0.73      0.28      0.41        39\n",
      "           2       0.65      0.91      0.76       122\n",
      "\n",
      "    accuracy                           0.65       223\n",
      "   macro avg       0.67      0.53      0.55       223\n",
      "weighted avg       0.66      0.65      0.62       223\n",
      "\n"
     ]
    }
   ],
   "source": [
    "acc = accuracy_score(test_labels, y_val_pred)\n",
    "print(f'Accuracy = {acc}')\n",
    "\n",
    "prec = precision_score(test_labels, y_val_pred, average='macro')\n",
    "print(f'Precision (macro average) = {prec}')\n",
    "\n",
    "rec = recall_score(test_labels, y_val_pred, average='macro')\n",
    "print(f'Recall (macro average) = {rec}')\n",
    "\n",
    "f1_micro = f1_score(test_labels, y_val_pred, average='micro')\n",
    "print(f'F1 score (micro average) = {f1_micro}')\n",
    "\n",
    "f1_macro = f1_score(test_labels, y_val_pred, average='macro')\n",
    "print(f'F1 score (macro average) = {f1_macro}')\n",
    "\n",
    "# We can get all of these with a per-class breakdown using classification_report:\n",
    "print(classification_report(test_labels, y_val_pred))"
   ]
  },
  {
   "cell_type": "markdown",
   "id": "ac5fdda4-cc3d-4930-be2d-f184ae4bf567",
   "metadata": {},
   "source": [
    "## Applying Logistic Regression to Lem set"
   ]
  },
  {
   "cell_type": "code",
   "execution_count": 46,
   "id": "30511b61-51f5-4428-9be8-bb831784e76c",
   "metadata": {},
   "outputs": [
    {
     "data": {
      "text/plain": [
       "LogisticRegression()"
      ]
     },
     "execution_count": 46,
     "metadata": {},
     "output_type": "execute_result"
    }
   ],
   "source": [
    "# Defining the classifier\n",
    "logi_classifier_Lem = LogisticRegression()\n",
    "\n",
    "# Training the classifier\n",
    "logi_classifier_Lem.fit(X_train_Lem, train_labels)"
   ]
  },
  {
   "cell_type": "code",
   "execution_count": 47,
   "id": "8567d3f0-127c-4a1c-9c35-aef0399c38c8",
   "metadata": {},
   "outputs": [],
   "source": [
    "# Testing the classifier\n",
    "y_val_pred_logi_Lem = logi_classifier_Lem.predict(X_test_Lem)"
   ]
  },
  {
   "cell_type": "code",
   "execution_count": 48,
   "id": "7c4d18bf-a978-4402-9f70-b1046ef955fa",
   "metadata": {},
   "outputs": [
    {
     "name": "stdout",
     "output_type": "stream",
     "text": [
      "Accuracy = 0.672645739910314\n",
      "Precision (macro average) = 0.6430648692598058\n",
      "Recall (macro average) = 0.5525950634358884\n",
      "F1 score (micro average) = 0.672645739910314\n",
      "F1 score (macro average) = 0.5693043273688435\n",
      "              precision    recall  f1-score   support\n",
      "\n",
      "           0       0.65      0.52      0.58        62\n",
      "           1       0.59      0.26      0.36        39\n",
      "           2       0.69      0.89      0.77       122\n",
      "\n",
      "    accuracy                           0.67       223\n",
      "   macro avg       0.64      0.55      0.57       223\n",
      "weighted avg       0.66      0.67      0.65       223\n",
      "\n"
     ]
    }
   ],
   "source": [
    "acc_logi_lem = accuracy_score(test_labels, y_val_pred_logi_Lem)\n",
    "print(f'Accuracy = {acc_logi_lem}')\n",
    "\n",
    "prec_logi_lem = precision_score(test_labels, y_val_pred_logi_Lem, average='macro')\n",
    "print(f'Precision (macro average) = {prec_logi_lem}')\n",
    "\n",
    "rec_logi_lem = recall_score(test_labels, y_val_pred_logi_Lem, average='macro')\n",
    "print(f'Recall (macro average) = {rec_logi_lem}')\n",
    "\n",
    "f1_micro_logi_lem = f1_score(test_labels, y_val_pred_logi_Lem, average='micro')\n",
    "print(f'F1 score (micro average) = {f1_micro_logi_lem}')\n",
    "\n",
    "f1_macro_logi_lem = f1_score(test_labels, y_val_pred_logi_Lem, average='macro')\n",
    "print(f'F1 score (macro average) = {f1_macro_logi_lem}')\n",
    "\n",
    "# We can get all of these with a per-class breakdown using classification_report:\n",
    "print(classification_report(test_labels, y_val_pred_logi_Lem))"
   ]
  },
  {
   "cell_type": "markdown",
   "id": "c436562c-d8de-48ef-8424-9c240fc7e0ff",
   "metadata": {},
   "source": [
    "## Applying Logistic Regression to non Lem set"
   ]
  },
  {
   "cell_type": "code",
   "execution_count": 49,
   "id": "d00854a4-29b1-45a1-8e11-c3d3b7a2ed5c",
   "metadata": {},
   "outputs": [
    {
     "data": {
      "text/plain": [
       "LogisticRegression()"
      ]
     },
     "execution_count": 49,
     "metadata": {},
     "output_type": "execute_result"
    }
   ],
   "source": [
    "# Defining the classifier\n",
    "logi_classifier = LogisticRegression()\n",
    "\n",
    "# Training the classifier\n",
    "logi_classifier.fit(X_train, train_labels)"
   ]
  },
  {
   "cell_type": "code",
   "execution_count": 50,
   "id": "fb7fc275-3dd9-48d9-ab3e-555ebf1079b9",
   "metadata": {},
   "outputs": [],
   "source": [
    "# Testing the classifier\n",
    "y_val_pred_logi = logi_classifier.predict(X_test)"
   ]
  },
  {
   "cell_type": "code",
   "execution_count": 51,
   "id": "1b0f81fd-2912-4e1b-943d-6dcf761c8568",
   "metadata": {},
   "outputs": [
    {
     "name": "stdout",
     "output_type": "stream",
     "text": [
      "Accuracy = 0.6591928251121076\n",
      "Precision (macro average) = 0.6231460532931121\n",
      "Recall (macro average) = 0.5385835740145629\n",
      "F1 score (micro average) = 0.6591928251121076\n",
      "F1 score (macro average) = 0.5520781122487368\n",
      "              precision    recall  f1-score   support\n",
      "\n",
      "           0       0.63      0.52      0.57        62\n",
      "           1       0.56      0.23      0.33        39\n",
      "           2       0.68      0.87      0.76       122\n",
      "\n",
      "    accuracy                           0.66       223\n",
      "   macro avg       0.62      0.54      0.55       223\n",
      "weighted avg       0.64      0.66      0.63       223\n",
      "\n"
     ]
    }
   ],
   "source": [
    "acc_logi = accuracy_score(test_labels, y_val_pred_logi)\n",
    "print(f'Accuracy = {acc_logi}')\n",
    "\n",
    "prec_logi = precision_score(test_labels, y_val_pred_logi, average='macro')\n",
    "print(f'Precision (macro average) = {prec_logi}')\n",
    "\n",
    "rec_logi = recall_score(test_labels, y_val_pred_logi, average='macro')\n",
    "print(f'Recall (macro average) = {rec_logi}')\n",
    "\n",
    "f1_micro_logi = f1_score(test_labels, y_val_pred_logi, average='micro')\n",
    "print(f'F1 score (micro average) = {f1_micro_logi}')\n",
    "\n",
    "f1_macro_logi = f1_score(test_labels, y_val_pred_logi, average='macro')\n",
    "print(f'F1 score (macro average) = {f1_macro_logi}')\n",
    "\n",
    "# We can get all of these with a per-class breakdown using classification_report:\n",
    "print(classification_report(test_labels, y_val_pred_logi))"
   ]
  },
  {
   "cell_type": "markdown",
   "id": "de24d7d2-6dc2-4362-81a6-4351956975a4",
   "metadata": {},
   "source": [
    "## Comparing Lem to Non Lem"
   ]
  },
  {
   "cell_type": "code",
   "execution_count": 52,
   "id": "618f457c-8673-4655-afd0-0f96e0b64d6c",
   "metadata": {},
   "outputs": [
    {
     "data": {
      "image/png": "[encoded data removed]",
      "text/plain": [
       "<Figure size 432x288 with 1 Axes>"
      ]
     },
     "metadata": {
      "needs_background": "light"
     },
     "output_type": "display_data"
    }
   ],
   "source": [
    "# define the different metrics and their scores for bayes with lem\n",
    "metrics = [\"Accuracy\", \"Precision\", \"Recall\", \"F1 Micro\", \"F1 Macro\"]\n",
    "bayes_lem = [acc_lem, prec_lem, rec_lem, f1_micro_lem, f1_macro_lem]\n",
    "\n",
    "# define their scores for Bayes non lem\n",
    "bayes_non_lem = [acc, prec, rec, f1_micro, f1_macro]\n",
    "\n",
    "# Logistic Regresion with Lemmatisation\n",
    "logi_lem = [acc_logi_lem, prec_logi_lem, rec_logi_lem, f1_micro_logi_lem, f1_macro_logi_lem]\n",
    "\n",
    "# Logistic Regresion sans Lemmatisation\n",
    "logi = [acc_logi, prec_logi, rec_logi, f1_micro_logi, f1_macro_logi]\n",
    "\n",
    "# set the width of the bars\n",
    "bar_width = 0.15\n",
    "\n",
    "# set the x-positions of the bars\n",
    "r1 = np.arange(len(metrics))\n",
    "r2 = [x + bar_width for x in r1]\n",
    "r3 = [x + bar_width for x in r2]\n",
    "r4 = [x + bar_width for x in r3]\n",
    "\n",
    "# create the bar plot\n",
    "plt.bar(r1, bayes_lem, color=\"tab:blue\", width=bar_width, edgecolor=\"black\", label=\"Naive Bayes with Lemmatisation\")\n",
    "plt.bar(r2, bayes_non_lem, color=\"tab:orange\", width=bar_width, edgecolor=\"black\", label=\"Naive Bayes without Lemmatisation\")\n",
    "plt.bar(r3, logi_lem, color=\"tab:green\", width=bar_width, edgecolor=\"black\", label=\"Logistic Regression with Lemmatisation\")\n",
    "plt.bar(r4, logi, color=\"tab:red\", width=bar_width, edgecolor=\"black\", label=\"Logistic Regression without Lemmatisation\")\n",
    "\n",
    "# add labels and title\n",
    "plt.xlabel(\"Metrics\")\n",
    "plt.ylabel(\"Score\")\n",
    "plt.xticks([r + bar_width*2 for r in range(len(metrics))], metrics)\n",
    "plt.title(\"Comparison of Model Metrics\")\n",
    "\n",
    "# set y-axis limits\n",
    "plt.ylim(0.5, 0.85)\n",
    "\n",
    "# add legend\n",
    "plt.legend()\n",
    "\n",
    "# show the plot\n",
    "plt.grid(axis=\"y\")\n",
    "plt.savefig(\"model_comparison.png\", dpi=300)\n",
    "plt.show()"
   ]
  },
  {
   "cell_type": "markdown",
   "id": "83b71c69-6548-4dbc-b617-c083c69ab029",
   "metadata": {},
   "source": [
    "## Identifying Common Themes/Topics associated with Positive/Negative Sentiment using LDA"
   ]
  },
  {
   "cell_type": "code",
   "execution_count": 75,
   "id": "ac12e80c-8b49-4340-aa3a-2fe7cb18e455",
   "metadata": {},
   "outputs": [],
   "source": [
    "# create training dictionary\n",
    "train_documents_tok = [LemmaTokenizer()(doc) for doc in train_documents]\n",
    "train_dictionary = Dictionary(train_documents_tok)\n",
    "\n",
    "# create testing dictionary\n",
    "test_documents_tok = [LemmaTokenizer()(doc) for doc in test_documents]\n",
    "test_dictionary = Dictionary(test_documents_tok)\n",
    "\n",
    "# create bag of words\n",
    "train_corpus = [train_dictionary.doc2bow(doc) for doc in train_documents_tok]\n",
    "test_corpus = [test_dictionary.doc2bow(doc) for doc in test_documents_tok]"
   ]
  },
  {
   "cell_type": "code",
   "execution_count": 76,
   "id": "840cef60-0e5a-48c3-9553-fedc4efd9e2f",
   "metadata": {},
   "outputs": [],
   "source": [
    "# Classify the documents using the trained Naive Bayes classifier\n",
    "# y_val_pred_Lem = classifier_Lem.predict(X_test_Lem)\n",
    "\n",
    "# make predictions using the trained Naive Bayes model\n",
    "train_predictions = classifier_Lem.predict(X_train_Lem)\n",
    "test_predictions = classifier_Lem.predict(X_test_Lem)"
   ]
  },
  {
   "cell_type": "code",
   "execution_count": 99,
   "id": "01b652c6-e9a4-4540-a1f7-19b16e6bacb5",
   "metadata": {},
   "outputs": [],
   "source": [
    "# Get the index for each sentiment, so the LDA method can be trained to identify topics on positive data etc\n",
    "positive_train_docs = []\n",
    "neutral_train_docs = []\n",
    "negative_train_docs = []\n",
    "\n",
    "for i, val in enumerate(train_predictions):\n",
    "    if val == 2:\n",
    "        positive_train_docs.append(i)\n",
    "    elif val == 1:\n",
    "        neutral_train_docs.append(i)\n",
    "    elif val == 0:\n",
    "        negative_train_docs.append(i)\n",
    "        \n",
    "positive_test_docs = []\n",
    "neutral_test_docs = []\n",
    "negative_test_docs = []\n",
    "\n",
    "for i, val in enumerate(test_predictions):\n",
    "    if val == 2:\n",
    "        positive_test_docs.append(i)\n",
    "    elif val == 1:\n",
    "        neutral_test_docs.append(i)\n",
    "    elif val == 0:\n",
    "        negative_test_docs.append(i)"
   ]
  },
  {
   "cell_type": "code",
   "execution_count": 130,
   "id": "07d292de-ff62-4134-9af9-b1e48597147e",
   "metadata": {},
   "outputs": [],
   "source": [
    "# Defining the positive corpuses\n",
    "positive_train_corpus = [train_dictionary.doc2bow(train_documents_tok[i]) for i in positive_train_docs]\n",
    "positive_test_corpus = [test_dictionary.doc2bow(test_documents_tok[i]) for i in positive_test_docs]\n",
    "\n",
    "# Defining the negative corpuses\n",
    "negative_train_corpus = [train_dictionary.doc2bow(train_documents_tok[i]) for i in negative_train_docs]\n",
    "negative_test_corpus = [test_dictionary.doc2bow(test_documents_tok[i]) for i in negative_test_docs]\n",
    "\n",
    "# train LDA model for the positive corpus\n",
    "num_topics = 20 # number of topics to extract\n",
    "positive_lda_model = LdaModel(corpus=positive_train_corpus, num_topics=num_topics, id2word=train_dictionary, iterations=50, passes=20)\n",
    "\n",
    "# train LDA model for the negative corpus\n",
    "negative_lda_model = LdaModel(corpus=negative_train_corpus, num_topics=num_topics, id2word=train_dictionary, iterations=50, passes=20)"
   ]
  },
  {
   "cell_type": "code",
   "execution_count": 131,
   "id": "0f756e75-85f3-4f85-94b3-9947e5ad3cb2",
   "metadata": {},
   "outputs": [
    {
     "name": "stdout",
     "output_type": "stream",
     "text": [
      "Topic: 0 \n",
      "Words: 0.036*\"$\" + 0.029*\"on\" + 0.021*\".\" + 0.015*\"a\" + 0.013*\"for\" + 0.011*\",\" + 0.010*\"day\" + 0.010*\"'s\" + 0.009*\"fda\" + 0.009*\"cancer\"\n",
      "\n",
      "\n",
      "Topic: 1 \n",
      "Words: 0.033*\"to\" + 0.021*\"$\" + 0.012*\"in\" + 0.010*\"with\" + 0.008*\"a\" + 0.007*\"lse\" + 0.007*\"share\" + 0.007*\"plc\" + 0.007*\"price\" + 0.007*\"bg\"\n",
      "\n",
      "\n",
      "Topic: 2 \n",
      "Words: 0.057*\".\" + 0.041*\"$\" + 0.025*\"a\" + 0.015*\"it\" + 0.013*\"of\" + 0.011*\"-\" + 0.011*\"at\" + 0.011*\"aapl\" + 0.009*\":\" + 0.009*\"be\"\n",
      "\n",
      "\n",
      "Topic: 3 \n",
      "Words: 0.036*\"$\" + 0.024*\".\" + 0.021*\"to\" + 0.018*\":\" + 0.016*\"in\" + 0.015*\"the\" + 0.014*\"http\" + 0.014*\"@\" + 0.010*\"stake\" + 0.010*\"and\"\n",
      "\n",
      "\n",
      "Topic: 4 \n",
      "Words: 0.028*\"inbev\" + 0.027*\"$\" + 0.027*\"sabmiller\" + 0.025*\"ab\" + 0.017*\",\" + 0.013*\":\" + 0.011*\"to\" + 0.010*\"for\" + 0.008*\"bp\" + 0.008*\"...\"\n",
      "\n",
      "\n",
      "Topic: 5 \n",
      "Words: 0.034*\"$\" + 0.025*\".\" + 0.022*\"to\" + 0.016*\"the\" + 0.013*\"up\" + 0.012*\"a\" + 0.011*\"after\" + 0.011*\"for\" + 0.009*\"i\" + 0.009*\"long\"\n",
      "\n",
      "\n",
      "Topic: 6 \n",
      "Words: 0.036*\"$\" + 0.016*\"for\" + 0.011*\"to\" + 0.011*\"from\" + 0.011*\":\" + 0.011*\"and\" + 0.011*\"is\" + 0.009*\"a\" + 0.009*\"http\" + 0.009*\"on\"\n",
      "\n",
      "\n",
      "Topic: 7 \n",
      "Words: 0.035*\"$\" + 0.023*\"a\" + 0.016*\".\" + 0.013*\",\" + 0.010*\":\" + 0.010*\"on\" + 0.007*\"breakout\" + 0.007*\"http\" + 0.007*\"of\" + 0.007*\"spy\"\n",
      "\n",
      "\n",
      "Topic: 8 \n",
      "Words: 0.050*\":\" + 0.034*\",\" + 0.022*\"$\" + 0.022*\"http\" + 0.011*\"at\" + 0.011*\"-\" + 0.010*\"on\" + 0.009*\"and\" + 0.007*\"'s\" + 0.007*\"...\"\n",
      "\n",
      "\n",
      "Topic: 9 \n",
      "Words: 0.042*\"$\" + 0.025*\".\" + 0.017*\":\" + 0.016*\"on\" + 0.013*\"http\" + 0.013*\"the\" + 0.012*\"and\" + 0.009*\"a\" + 0.008*\",\" + 0.008*\"it\"\n",
      "\n",
      "\n",
      "Topic: 10 \n",
      "Words: 0.092*\"$\" + 0.037*\":\" + 0.032*\"http\" + 0.014*\"and\" + 0.013*\"to\" + 0.008*\"a\" + 0.008*\"on\" + 0.008*\"@\" + 0.007*\"long\" + 0.007*\"fb\"\n",
      "\n",
      "\n",
      "Topic: 11 \n",
      "Words: 0.048*\"$\" + 0.024*\"a\" + 0.023*\".\" + 0.021*\",\" + 0.017*\":\" + 0.014*\"of\" + 0.014*\"#\" + 0.013*\"the\" + 0.013*\"http\" + 0.011*\"and\"\n",
      "\n",
      "\n",
      "Topic: 12 \n",
      "Words: 0.018*\"a\" + 0.013*\"sale\" + 0.009*\"$\" + 0.009*\",\" + 0.009*\"to\" + 0.009*\"#\" + 0.005*\":\" + 0.005*\"in\" + 0.005*\".\" + 0.005*\"stock\"\n",
      "\n",
      "\n",
      "Topic: 13 \n",
      "Words: 0.079*\"$\" + 0.041*\".\" + 0.023*\":\" + 0.015*\"a\" + 0.014*\",\" + 0.013*\"close\" + 0.012*\"call\" + 0.011*\"http\" + 0.011*\"aapl\" + 0.011*\"%\"\n",
      "\n",
      "\n",
      "Topic: 14 \n",
      "Words: 0.036*\"$\" + 0.017*\"of\" + 0.017*\"the\" + 0.017*\":\" + 0.015*\"to\" + 0.014*\".\" + 0.013*\",\" + 0.013*\"http\" + 0.013*\"-\" + 0.013*\"@\"\n",
      "\n",
      "\n",
      "Topic: 15 \n",
      "Words: 0.046*\"$\" + 0.029*\"to\" + 0.018*\".\" + 0.015*\"a\" + 0.015*\"'s\" + 0.013*\":\" + 0.013*\"in\" + 0.013*\"for\" + 0.012*\"http\" + 0.010*\"%\"\n",
      "\n",
      "\n",
      "Topic: 16 \n",
      "Words: 0.051*\"$\" + 0.043*\":\" + 0.032*\"http\" + 0.026*\"a\" + 0.020*\",\" + 0.014*\"of\" + 0.010*\"up\" + 0.008*\"in\" + 0.008*\"to\" + 0.006*\"for\"\n",
      "\n",
      "\n",
      "Topic: 17 \n",
      "Words: 0.045*\"$\" + 0.035*\",\" + 0.028*\".\" + 0.020*\")\" + 0.018*\"(\" + 0.016*\"to\" + 0.014*\"and\" + 0.013*\"out\" + 0.012*\"up\" + 0.012*\"!\"\n",
      "\n",
      "\n",
      "Topic: 18 \n",
      "Words: 0.047*\"$\" + 0.035*\"to\" + 0.022*\"for\" + 0.019*\"billion\" + 0.015*\"deal\" + 0.014*\"buy\" + 0.014*\":\" + 0.013*\"shire\" + 0.011*\"from\" + 0.011*\"the\"\n",
      "\n",
      "\n",
      "Topic: 19 \n",
      "Words: 0.028*\"$\" + 0.015*\"very\" + 0.012*\":\" + 0.012*\",\" + 0.009*\"and\" + 0.009*\"i\" + 0.006*\"high\" + 0.006*\"http\" + 0.006*\"this\" + 0.006*\".\"\n",
      "\n",
      "\n"
     ]
    }
   ],
   "source": [
    "for idx, topic in positive_lda_model.print_topics(-1):\n",
    "    print(\"Topic: {} \\nWords: {}\".format(idx, topic ))\n",
    "    print(\"\\n\")"
   ]
  },
  {
   "cell_type": "code",
   "execution_count": 132,
   "id": "5b33b8ea-d4ec-4a89-b6bb-5dc338651efc",
   "metadata": {},
   "outputs": [
    {
     "name": "stdout",
     "output_type": "stream",
     "text": [
      "Topic: 0 \n",
      "Words: 0.017*\"$\" + 0.013*\"fall\" + 0.013*\"in\" + 0.009*\"?\" + 0.009*\".\" + 0.009*\"a\" + 0.005*\"of\" + 0.005*\"share\" + 0.005*\"to\" + 0.005*\"ready\"\n",
      "\n",
      "\n",
      "Topic: 1 \n",
      "Words: 0.019*\"on\" + 0.015*\"price\" + 0.014*\"$\" + 0.011*\"lower\" + 0.011*\"...\" + 0.008*\",\" + 0.008*\"'s\" + 0.008*\".\" + 0.008*\"drop\" + 0.008*\"hit\"\n",
      "\n",
      "\n",
      "Topic: 2 \n",
      "Words: 0.014*\",\" + 0.014*\":\" + 0.011*\"$\" + 0.009*\"a\" + 0.009*\"http\" + 0.009*\"dma\" + 0.009*\"support\" + 0.006*\"spy\" + 0.005*\"to\" + 0.005*\"@\"\n",
      "\n",
      "\n",
      "Topic: 3 \n",
      "Words: 0.009*\"ntap\" + 0.009*\"market\" + 0.009*\"think\" + 0.009*\"price\" + 0.009*\"cut\" + 0.008*\"@\" + 0.008*\"will\" + 0.007*\".\" + 0.006*\",\" + 0.006*\"$\"\n",
      "\n",
      "\n",
      "Topic: 4 \n",
      "Words: 0.027*\",\" + 0.023*\"$\" + 0.017*\"the\" + 0.013*\"to\" + 0.010*\"%\" + 0.010*\"is\" + 0.007*\".\" + 0.007*\"...\" + 0.007*\"only\" + 0.007*\"weak\"\n",
      "\n",
      "\n",
      "Topic: 5 \n",
      "Words: 0.021*\"$\" + 0.019*\"on\" + 0.017*\":\" + 0.011*\"http\" + 0.008*\"%\" + 0.008*\"down\" + 0.008*\"a\" + 0.008*\"juniper\" + 0.008*\"csco\" + 0.008*\"q1\"\n",
      "\n",
      "\n",
      "Topic: 6 \n",
      "Words: 0.048*\"$\" + 0.028*\".\" + 0.020*\":\" + 0.017*\"short\" + 0.017*\"to\" + 0.014*\"http\" + 0.014*\",\" + 0.011*\"a\" + 0.009*\"on\" + 0.009*\"%\"\n",
      "\n",
      "\n",
      "Topic: 7 \n",
      "Words: 0.061*\"$\" + 0.028*\",\" + 0.022*\":\" + 0.019*\"to\" + 0.018*\"http\" + 0.015*\"a\" + 0.011*\"...\" + 0.010*\"short\" + 0.008*\"and\" + 0.008*\"from\"\n",
      "\n",
      "\n",
      "Topic: 8 \n",
      "Words: 0.010*\"sale\" + 0.010*\"for\" + 0.006*\"$\" + 0.005*\"comparative\" + 0.005*\"'\" + 0.005*\"rival\" + 0.005*\"leave\" + 0.005*\"taste\" + 0.005*\"diageo\" + 0.005*\"and\"\n",
      "\n",
      "\n",
      "Topic: 9 \n",
      "Words: 0.089*\"$\" + 0.040*\".\" + 0.018*\"a\" + 0.013*\"to\" + 0.013*\":\" + 0.012*\"the\" + 0.011*\",\" + 0.011*\"#\" + 0.009*\"aapl\" + 0.007*\"of\"\n",
      "\n",
      "\n",
      "Topic: 10 \n",
      "Words: 0.026*\".\" + 0.023*\"$\" + 0.013*\"the\" + 0.010*\"by\" + 0.010*\"a\" + 0.010*\"and\" + 0.007*\":\" + 0.007*\"ba\" + 0.007*\"u\" + 0.007*\"of\"\n",
      "\n",
      "\n",
      "Topic: 11 \n",
      "Words: 0.015*\"$\" + 0.011*\"of\" + 0.011*\"share\" + 0.008*\"http\" + 0.008*\":\" + 0.008*\"hsbc\" + 0.008*\"by\" + 0.008*\";\" + 0.008*\"and\" + 0.008*\"to\"\n",
      "\n",
      "\n",
      "Topic: 12 \n",
      "Words: 0.032*\"$\" + 0.018*\".\" + 0.015*\",\" + 0.012*\"the\" + 0.011*\":\" + 0.011*\"http\" + 0.010*\"tsla\" + 0.009*\"day\" + 0.009*\"to\" + 0.006*\"in\"\n",
      "\n",
      "\n",
      "Topic: 13 \n",
      "Words: 0.046*\"$\" + 0.023*\".\" + 0.014*\"the\" + 0.013*\"#\" + 0.013*\"is\" + 0.010*\"still\" + 0.010*\"in\" + 0.009*\"and\" + 0.008*\"for\" + 0.007*\":\"\n",
      "\n",
      "\n",
      "Topic: 14 \n",
      "Words: 0.056*\"$\" + 0.018*\".\" + 0.017*\"to\" + 0.016*\":\" + 0.015*\"a\" + 0.013*\"http\" + 0.013*\"-\" + 0.012*\"on\" + 0.009*\"from\" + 0.008*\",\"\n",
      "\n",
      "\n",
      "Topic: 15 \n",
      "Words: 0.016*\"$\" + 0.012*\":\" + 0.012*\"it\" + 0.012*\"a\" + 0.012*\">\" + 0.012*\"sell\" + 0.008*\"hit\" + 0.008*\"'s\" + 0.008*\"after\" + 0.008*\"for\"\n",
      "\n",
      "\n",
      "Topic: 16 \n",
      "Words: 0.032*\",\" + 0.021*\"$\" + 0.018*\"to\" + 0.014*\"http\" + 0.014*\":\" + 0.011*\"in\" + 0.011*\"short\" + 0.007*\"on\" + 0.007*\"price\" + 0.007*\"that\"\n",
      "\n",
      "\n",
      "Topic: 17 \n",
      "Words: 0.050*\"tsla\" + 0.044*\":\" + 0.041*\"recall\" + 0.041*\"x\" + 0.039*\"$\" + 0.038*\"http\" + 0.036*\"model\" + 0.027*\"tesla\" + 0.022*\"2,700\" + 0.017*\"suv\"\n",
      "\n",
      "\n",
      "Topic: 18 \n",
      "Words: 0.024*\"$\" + 0.017*\".\" + 0.011*\"the\" + 0.010*\",\" + 0.007*\"i\" + 0.007*\"around\" + 0.007*\"but\" + 0.007*\"support\" + 0.007*\"can\" + 0.007*\"back\"\n",
      "\n",
      "\n",
      "Topic: 19 \n",
      "Words: 0.039*\"$\" + 0.013*\"-\" + 0.009*\"the\" + 0.009*\"a\" + 0.009*\"up\" + 0.009*\"sbux\" + 0.008*\"spy\" + 0.007*\".\" + 0.006*\"out\" + 0.006*\"to\"\n",
      "\n",
      "\n"
     ]
    }
   ],
   "source": [
    "for idx, topic in negative_lda_model.print_topics(-1):\n",
    "    print(\"Topic: {} \\nWords: {}\".format(idx, topic ))\n",
    "    print(\"\\n\")"
   ]
  },
  {
   "cell_type": "code",
   "execution_count": 117,
   "id": "0baaa113-0d4c-4194-a9f4-ed8711921621",
   "metadata": {},
   "outputs": [
    {
     "name": "stdout",
     "output_type": "stream",
     "text": [
      "['$', 'aapl', 'long', '630.91']\n",
      "$: 1\n",
      "630.91: 1\n",
      "aapl: 1\n",
      "long: 1\n"
     ]
    }
   ],
   "source": [
    "# Testing on unseen positive data    \n",
    "print(test_documents_tok[positive_test_docs[0]])\n",
    "\n",
    "# Data preprocessing step for the unseen document - It is the same preprocessing we have performed for the training data\n",
    "positive_bow_vector = test_dictionary.doc2bow(test_documents_tok[positive_test_docs[0]])\n",
    "\n",
    "for idx, count in positive_bow_vector:\n",
    "    print(f'{test_dictionary[idx]}: {count}')"
   ]
  },
  {
   "cell_type": "code",
   "execution_count": 118,
   "id": "2d428ef6-b03f-4cad-a4c2-2aa22f8329ee",
   "metadata": {},
   "outputs": [
    {
     "name": "stdout",
     "output_type": "stream",
     "text": [
      "['$', 'fb', 'i', 'guess', 'they', 'want', 'it', 'down', 'look', 'at', 'the', 'those', 'sell', 'order']\n",
      "$: 1\n",
      "down: 1\n",
      "fb: 1\n",
      "the: 1\n",
      "at: 1\n",
      "guess: 1\n",
      "i: 1\n",
      "it: 1\n",
      "look: 1\n",
      "order: 1\n",
      "sell: 1\n",
      "they: 1\n",
      "those: 1\n",
      "want: 1\n"
     ]
    }
   ],
   "source": [
    "# Testing on unseen negative data    \n",
    "print(test_documents_tok[negative_test_docs[0]])\n",
    "\n",
    "# Data preprocessing step for the unseen document - It is the same preprocessing we have performed for the training data\n",
    "negative_bow_vector = test_dictionary.doc2bow(test_documents_tok[negative_test_docs[0]])\n",
    "\n",
    "for idx, count in negative_bow_vector:\n",
    "    print(f'{test_dictionary[idx]}: {count}')"
   ]
  }
 ],
 "metadata": {
  "kernelspec": {
   "display_name": "Python 3 (ipykernel)",
   "language": "python",
   "name": "python3"
  },
  "language_info": {
   "codemirror_mode": {
    "name": "ipython",
    "version": 3
   },
   "file_extension": ".py",
   "mimetype": "text/x-python",
   "name": "python",
   "nbconvert_exporter": "python",
   "pygments_lexer": "ipython3",
   "version": "3.9.12"
  }
 },
 "nbformat": 4,
 "nbformat_minor": 5
}
