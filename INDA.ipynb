{
 "cells": [
  {
   "cell_type": "markdown",
   "id": "d2258190-a45c-4676-b348-a2a874133acd",
   "metadata": {},
   "source": [
    "# Task One -- Sentiment Analysis (FiQA SA)"
   ]
  },
  {
   "cell_type": "markdown",
   "id": "31172726-be27-4dd4-95a3-5cf69107bcfb",
   "metadata": {},
   "source": [
    "## Importing Packages for Part One"
   ]
  },
  {
   "cell_type": "code",
   "execution_count": 1,
   "id": "c77dc957-6515-46fd-9df3-6b4d894c5ff8",
   "metadata": {},
   "outputs": [
    {
     "ename": "ModuleNotFoundError",
     "evalue": "No module named 'datasets'",
     "output_type": "error",
     "traceback": [
      "\u001B[1;31m---------------------------------------------------------------------------\u001B[0m",
      "\u001B[1;31mModuleNotFoundError\u001B[0m                       Traceback (most recent call last)",
      "Cell \u001B[1;32mIn[1], line 1\u001B[0m\n\u001B[1;32m----> 1\u001B[0m \u001B[38;5;28;01mfrom\u001B[39;00m \u001B[38;5;21;01mdatasets\u001B[39;00m \u001B[38;5;28;01mimport\u001B[39;00m load_dataset\n\u001B[0;32m      2\u001B[0m \u001B[38;5;28;01mfrom\u001B[39;00m \u001B[38;5;21;01msklearn\u001B[39;00m\u001B[38;5;21;01m.\u001B[39;00m\u001B[38;5;21;01mmodel_selection\u001B[39;00m \u001B[38;5;28;01mimport\u001B[39;00m train_test_split\n\u001B[0;32m      4\u001B[0m \u001B[38;5;28;01mimport\u001B[39;00m \u001B[38;5;21;01mnumpy\u001B[39;00m \u001B[38;5;28;01mas\u001B[39;00m \u001B[38;5;21;01mnp\u001B[39;00m\n",
      "\u001B[1;31mModuleNotFoundError\u001B[0m: No module named 'datasets'"
     ]
    }
   ],
   "source": [
    "# from datasets import load_dataset # Doesn't work on\n",
    "from sklearn.model_selection import train_test_split\n",
    "\n",
    "import numpy as np\n",
    "import json"
   ]
  },
  {
   "cell_type": "markdown",
   "id": "c0175e53-6567-4b29-99b1-baa40d4d7ee7",
   "metadata": {
    "tags": []
   },
   "source": [
    "## Importing the Training Files"
   ]
  },
  {
   "cell_type": "code",
   "execution_count": 3,
   "id": "0eaf1ffb-b5ce-4a3e-93a1-91a20385381d",
   "metadata": {},
   "outputs": [],
   "source": [
    "train_files = [\"data_cache/FiQA_ABSA_task1/task1_headline_ABSA_train.json\",\n",
    "               \"data_cache/FiQA_ABSA_task1/task1_post_ABSA_train.json\"]"
   ]
  },
  {
   "cell_type": "code",
   "execution_count": 4,
   "id": "422d1622-0ff6-45ae-b225-a66a87900ab0",
   "metadata": {},
   "outputs": [
    {
     "name": "stdout",
     "output_type": "stream",
     "text": [
      "Number of instances: 1111\n",
      "Number of labels: 1111\n",
      "Number of negative labels: 310\n",
      "Number of neutral labels: 195\n",
      "Number of positive labels: 606\n"
     ]
    }
   ],
   "source": [
    "def load_fiqa_sa_from_json(json_files):\n",
    "    train_text = []\n",
    "    train_labels = []\n",
    "\n",
    "    for file in json_files:\n",
    "        with open(file, \"r\", encoding=\"utf-8\") as handle:  # UTF-8 is needed to prevent a UnicodeDecodeError I was recieving\n",
    "            dataf = json.load(handle)\n",
    "\n",
    "        dataf_text = [dataf[k][\"sentence\"] for k in dataf.keys()]\n",
    "        # print(len(dataf_text))\n",
    "        train_text.extend(dataf_text)\n",
    "\n",
    "        dataf_labels = [float(dataf[k][\"info\"][0][\"sentiment_score\"]) for k in dataf.keys()]\n",
    "        # print(len(dataf_labels))\n",
    "        train_labels.extend(dataf_labels)\n",
    "\n",
    "    train_text = np.array(train_text)\n",
    "    train_labels = np.array(train_labels)\n",
    "    \n",
    "    return train_text, train_labels\n",
    "\n",
    "\n",
    "def threshold_scores(scores):\n",
    "    \"\"\"\n",
    "    Convert sentiment scores to discrete labels.\n",
    "    0 = negative.\n",
    "    1 = neutral.\n",
    "    2 = positive.\n",
    "    \"\"\"\n",
    "    labels = []\n",
    "    for score in scores:\n",
    "        if score < -0.2:\n",
    "            labels.append(0)\n",
    "        elif score > 0.2:\n",
    "            labels.append(2)\n",
    "        else:\n",
    "            labels.append(1)\n",
    "            \n",
    "    return np.array(labels)\n",
    "\n",
    "\n",
    "all_text, all_labels = load_fiqa_sa_from_json(train_files)\n",
    "    \n",
    "print(f'Number of instances: {len(all_text)}')\n",
    "print(f'Number of labels: {len(all_labels)}')\n",
    "\n",
    "all_labels = threshold_scores(all_labels)\n",
    "print(f'Number of negative labels: {np.sum(all_labels==0)}')\n",
    "print(f'Number of neutral labels: {np.sum(all_labels==1)}')\n",
    "print(f'Number of positive labels: {np.sum(all_labels==2)}')"
   ]
  },
  {
   "cell_type": "markdown",
   "id": "efcda60a-6871-4c7c-851e-aff0d51eea9b",
   "metadata": {},
   "source": [
    "## Creating the Test Split"
   ]
  },
  {
   "cell_type": "code",
   "execution_count": 5,
   "id": "bef424c5-d3e7-4e24-b51d-b82a823d3868",
   "metadata": {},
   "outputs": [
    {
     "name": "stdout",
     "output_type": "stream",
     "text": [
      "Number of training instances = 754\n",
      "Number of validation instances = 134\n",
      "Number of test instances = 223\n",
      "\n",
      "What does one instance look like from the training set?:\n",
      "$GS sells flat..I am out..\n",
      "...and here is its corresponding sentiment label: 0\n"
     ]
    }
   ],
   "source": [
    "# Split test data from training data\n",
    "train_documents, test_documents, train_labels, test_labels = train_test_split(\n",
    "    all_text, \n",
    "    all_labels, \n",
    "    test_size=0.2, \n",
    "    stratify=all_labels)  # make sure the same proportion of labels is in the test set and training set\n",
    "\n",
    "# Split validation data from training data\n",
    "train_documents, val_documents, train_labels, val_labels = train_test_split(\n",
    "    train_documents, \n",
    "    train_labels, \n",
    "    test_size=0.15, \n",
    "    stratify=train_labels)  # make sure the same proportion of labels is in the test set and training set\n",
    "\n",
    "print(f'Number of training instances = {len(train_documents)}')\n",
    "print(f'Number of validation instances = {len(val_documents)}')\n",
    "print(f'Number of test instances = {len(test_documents)}')\n",
    "\n",
    "print(f'\\nWhat does one instance look like from the training set?:\\n{train_documents[234]}')\n",
    "print(f'...and here is its corresponding sentiment label: {train_labels[234]}')"
   ]
  },
  {
   "cell_type": "markdown",
   "id": "c41efc92-c6d8-435f-819e-2d1a632522ce",
   "metadata": {},
   "source": [
    "## Preprocessing the Data"
   ]
  },
  {
   "cell_type": "code",
   "execution_count": null,
   "id": "e6ba6d5e-b462-419c-9a30-eaaecd477c62",
   "metadata": {},
   "outputs": [],
   "source": []
  },
  {
   "cell_type": "code",
   "execution_count": null,
   "id": "5ef5328c-0723-4b1c-8bc0-d3d08ca8fd5c",
   "metadata": {},
   "outputs": [],
   "source": []
  }
 ],
 "metadata": {
  "kernelspec": {
   "display_name": "Python 3 (ipykernel)",
   "language": "python",
   "name": "python3"
  },
  "language_info": {
   "codemirror_mode": {
    "name": "ipython",
    "version": 3
   },
   "file_extension": ".py",
   "mimetype": "text/x-python",
   "name": "python",
   "nbconvert_exporter": "python",
   "pygments_lexer": "ipython3",
   "version": "3.9.12"
  }
 },
 "nbformat": 4,
 "nbformat_minor": 5
}
